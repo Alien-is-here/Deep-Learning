{
  "nbformat": 4,
  "nbformat_minor": 0,
  "metadata": {
    "colab": {
      "provenance": []
    },
    "kernelspec": {
      "name": "python3",
      "display_name": "Python 3"
    },
    "language_info": {
      "name": "python"
    }
  },
  "cells": [
    {
      "cell_type": "code",
      "execution_count": 119,
      "metadata": {
        "id": "cKVzInXrteyO"
      },
      "outputs": [],
      "source": [
        "import numpy as np\n",
        "import pandas as pd\n",
        "import matplotlib.pyplot as plt"
      ]
    },
    {
      "cell_type": "code",
      "source": [
        "df = pd.read_csv('/content/ushape.csv')"
      ],
      "metadata": {
        "id": "l-CtLegnti3_"
      },
      "execution_count": 120,
      "outputs": []
    },
    {
      "cell_type": "code",
      "source": [
        "df = df.rename(columns={'3.159499363321345566e-02'\t: 'X','9.869877579082642072e-01':'Y','0.000000000000000000e+00':'class'})"
      ],
      "metadata": {
        "id": "hqh-hhJxKmFX"
      },
      "execution_count": 121,
      "outputs": []
    },
    {
      "cell_type": "code",
      "source": [
        "df.head()"
      ],
      "metadata": {
        "colab": {
          "base_uri": "https://localhost:8080/",
          "height": 206
        },
        "id": "T9P8j9Ubtt9t",
        "outputId": "3fd5472d-3ee3-464d-ccb1-759fd3b404b0"
      },
      "execution_count": 122,
      "outputs": [
        {
          "output_type": "execute_result",
          "data": {
            "text/plain": [
              "          X         Y  class\n",
              "0  2.115098 -0.046244    1.0\n",
              "1  0.882490 -0.075756    0.0\n",
              "2 -0.055144 -0.037332    1.0\n",
              "3  0.829545 -0.539321    1.0\n",
              "4  2.112857  0.662084    1.0"
            ],
            "text/html": [
              "\n",
              "  <div id=\"df-f2ff52f6-4c22-47cc-81d4-f463c19a90ca\" class=\"colab-df-container\">\n",
              "    <div>\n",
              "<style scoped>\n",
              "    .dataframe tbody tr th:only-of-type {\n",
              "        vertical-align: middle;\n",
              "    }\n",
              "\n",
              "    .dataframe tbody tr th {\n",
              "        vertical-align: top;\n",
              "    }\n",
              "\n",
              "    .dataframe thead th {\n",
              "        text-align: right;\n",
              "    }\n",
              "</style>\n",
              "<table border=\"1\" class=\"dataframe\">\n",
              "  <thead>\n",
              "    <tr style=\"text-align: right;\">\n",
              "      <th></th>\n",
              "      <th>X</th>\n",
              "      <th>Y</th>\n",
              "      <th>class</th>\n",
              "    </tr>\n",
              "  </thead>\n",
              "  <tbody>\n",
              "    <tr>\n",
              "      <th>0</th>\n",
              "      <td>2.115098</td>\n",
              "      <td>-0.046244</td>\n",
              "      <td>1.0</td>\n",
              "    </tr>\n",
              "    <tr>\n",
              "      <th>1</th>\n",
              "      <td>0.882490</td>\n",
              "      <td>-0.075756</td>\n",
              "      <td>0.0</td>\n",
              "    </tr>\n",
              "    <tr>\n",
              "      <th>2</th>\n",
              "      <td>-0.055144</td>\n",
              "      <td>-0.037332</td>\n",
              "      <td>1.0</td>\n",
              "    </tr>\n",
              "    <tr>\n",
              "      <th>3</th>\n",
              "      <td>0.829545</td>\n",
              "      <td>-0.539321</td>\n",
              "      <td>1.0</td>\n",
              "    </tr>\n",
              "    <tr>\n",
              "      <th>4</th>\n",
              "      <td>2.112857</td>\n",
              "      <td>0.662084</td>\n",
              "      <td>1.0</td>\n",
              "    </tr>\n",
              "  </tbody>\n",
              "</table>\n",
              "</div>\n",
              "    <div class=\"colab-df-buttons\">\n",
              "\n",
              "  <div class=\"colab-df-container\">\n",
              "    <button class=\"colab-df-convert\" onclick=\"convertToInteractive('df-f2ff52f6-4c22-47cc-81d4-f463c19a90ca')\"\n",
              "            title=\"Convert this dataframe to an interactive table.\"\n",
              "            style=\"display:none;\">\n",
              "\n",
              "  <svg xmlns=\"http://www.w3.org/2000/svg\" height=\"24px\" viewBox=\"0 -960 960 960\">\n",
              "    <path d=\"M120-120v-720h720v720H120Zm60-500h600v-160H180v160Zm220 220h160v-160H400v160Zm0 220h160v-160H400v160ZM180-400h160v-160H180v160Zm440 0h160v-160H620v160ZM180-180h160v-160H180v160Zm440 0h160v-160H620v160Z\"/>\n",
              "  </svg>\n",
              "    </button>\n",
              "\n",
              "  <style>\n",
              "    .colab-df-container {\n",
              "      display:flex;\n",
              "      gap: 12px;\n",
              "    }\n",
              "\n",
              "    .colab-df-convert {\n",
              "      background-color: #E8F0FE;\n",
              "      border: none;\n",
              "      border-radius: 50%;\n",
              "      cursor: pointer;\n",
              "      display: none;\n",
              "      fill: #1967D2;\n",
              "      height: 32px;\n",
              "      padding: 0 0 0 0;\n",
              "      width: 32px;\n",
              "    }\n",
              "\n",
              "    .colab-df-convert:hover {\n",
              "      background-color: #E2EBFA;\n",
              "      box-shadow: 0px 1px 2px rgba(60, 64, 67, 0.3), 0px 1px 3px 1px rgba(60, 64, 67, 0.15);\n",
              "      fill: #174EA6;\n",
              "    }\n",
              "\n",
              "    .colab-df-buttons div {\n",
              "      margin-bottom: 4px;\n",
              "    }\n",
              "\n",
              "    [theme=dark] .colab-df-convert {\n",
              "      background-color: #3B4455;\n",
              "      fill: #D2E3FC;\n",
              "    }\n",
              "\n",
              "    [theme=dark] .colab-df-convert:hover {\n",
              "      background-color: #434B5C;\n",
              "      box-shadow: 0px 1px 3px 1px rgba(0, 0, 0, 0.15);\n",
              "      filter: drop-shadow(0px 1px 2px rgba(0, 0, 0, 0.3));\n",
              "      fill: #FFFFFF;\n",
              "    }\n",
              "  </style>\n",
              "\n",
              "    <script>\n",
              "      const buttonEl =\n",
              "        document.querySelector('#df-f2ff52f6-4c22-47cc-81d4-f463c19a90ca button.colab-df-convert');\n",
              "      buttonEl.style.display =\n",
              "        google.colab.kernel.accessAllowed ? 'block' : 'none';\n",
              "\n",
              "      async function convertToInteractive(key) {\n",
              "        const element = document.querySelector('#df-f2ff52f6-4c22-47cc-81d4-f463c19a90ca');\n",
              "        const dataTable =\n",
              "          await google.colab.kernel.invokeFunction('convertToInteractive',\n",
              "                                                    [key], {});\n",
              "        if (!dataTable) return;\n",
              "\n",
              "        const docLinkHtml = 'Like what you see? Visit the ' +\n",
              "          '<a target=\"_blank\" href=https://colab.research.google.com/notebooks/data_table.ipynb>data table notebook</a>'\n",
              "          + ' to learn more about interactive tables.';\n",
              "        element.innerHTML = '';\n",
              "        dataTable['output_type'] = 'display_data';\n",
              "        await google.colab.output.renderOutput(dataTable, element);\n",
              "        const docLink = document.createElement('div');\n",
              "        docLink.innerHTML = docLinkHtml;\n",
              "        element.appendChild(docLink);\n",
              "      }\n",
              "    </script>\n",
              "  </div>\n",
              "\n",
              "\n",
              "<div id=\"df-23038e90-4433-42a2-8c97-7e879edc78fc\">\n",
              "  <button class=\"colab-df-quickchart\" onclick=\"quickchart('df-23038e90-4433-42a2-8c97-7e879edc78fc')\"\n",
              "            title=\"Suggest charts\"\n",
              "            style=\"display:none;\">\n",
              "\n",
              "<svg xmlns=\"http://www.w3.org/2000/svg\" height=\"24px\"viewBox=\"0 0 24 24\"\n",
              "     width=\"24px\">\n",
              "    <g>\n",
              "        <path d=\"M19 3H5c-1.1 0-2 .9-2 2v14c0 1.1.9 2 2 2h14c1.1 0 2-.9 2-2V5c0-1.1-.9-2-2-2zM9 17H7v-7h2v7zm4 0h-2V7h2v10zm4 0h-2v-4h2v4z\"/>\n",
              "    </g>\n",
              "</svg>\n",
              "  </button>\n",
              "\n",
              "<style>\n",
              "  .colab-df-quickchart {\n",
              "      --bg-color: #E8F0FE;\n",
              "      --fill-color: #1967D2;\n",
              "      --hover-bg-color: #E2EBFA;\n",
              "      --hover-fill-color: #174EA6;\n",
              "      --disabled-fill-color: #AAA;\n",
              "      --disabled-bg-color: #DDD;\n",
              "  }\n",
              "\n",
              "  [theme=dark] .colab-df-quickchart {\n",
              "      --bg-color: #3B4455;\n",
              "      --fill-color: #D2E3FC;\n",
              "      --hover-bg-color: #434B5C;\n",
              "      --hover-fill-color: #FFFFFF;\n",
              "      --disabled-bg-color: #3B4455;\n",
              "      --disabled-fill-color: #666;\n",
              "  }\n",
              "\n",
              "  .colab-df-quickchart {\n",
              "    background-color: var(--bg-color);\n",
              "    border: none;\n",
              "    border-radius: 50%;\n",
              "    cursor: pointer;\n",
              "    display: none;\n",
              "    fill: var(--fill-color);\n",
              "    height: 32px;\n",
              "    padding: 0;\n",
              "    width: 32px;\n",
              "  }\n",
              "\n",
              "  .colab-df-quickchart:hover {\n",
              "    background-color: var(--hover-bg-color);\n",
              "    box-shadow: 0 1px 2px rgba(60, 64, 67, 0.3), 0 1px 3px 1px rgba(60, 64, 67, 0.15);\n",
              "    fill: var(--button-hover-fill-color);\n",
              "  }\n",
              "\n",
              "  .colab-df-quickchart-complete:disabled,\n",
              "  .colab-df-quickchart-complete:disabled:hover {\n",
              "    background-color: var(--disabled-bg-color);\n",
              "    fill: var(--disabled-fill-color);\n",
              "    box-shadow: none;\n",
              "  }\n",
              "\n",
              "  .colab-df-spinner {\n",
              "    border: 2px solid var(--fill-color);\n",
              "    border-color: transparent;\n",
              "    border-bottom-color: var(--fill-color);\n",
              "    animation:\n",
              "      spin 1s steps(1) infinite;\n",
              "  }\n",
              "\n",
              "  @keyframes spin {\n",
              "    0% {\n",
              "      border-color: transparent;\n",
              "      border-bottom-color: var(--fill-color);\n",
              "      border-left-color: var(--fill-color);\n",
              "    }\n",
              "    20% {\n",
              "      border-color: transparent;\n",
              "      border-left-color: var(--fill-color);\n",
              "      border-top-color: var(--fill-color);\n",
              "    }\n",
              "    30% {\n",
              "      border-color: transparent;\n",
              "      border-left-color: var(--fill-color);\n",
              "      border-top-color: var(--fill-color);\n",
              "      border-right-color: var(--fill-color);\n",
              "    }\n",
              "    40% {\n",
              "      border-color: transparent;\n",
              "      border-right-color: var(--fill-color);\n",
              "      border-top-color: var(--fill-color);\n",
              "    }\n",
              "    60% {\n",
              "      border-color: transparent;\n",
              "      border-right-color: var(--fill-color);\n",
              "    }\n",
              "    80% {\n",
              "      border-color: transparent;\n",
              "      border-right-color: var(--fill-color);\n",
              "      border-bottom-color: var(--fill-color);\n",
              "    }\n",
              "    90% {\n",
              "      border-color: transparent;\n",
              "      border-bottom-color: var(--fill-color);\n",
              "    }\n",
              "  }\n",
              "</style>\n",
              "\n",
              "  <script>\n",
              "    async function quickchart(key) {\n",
              "      const quickchartButtonEl =\n",
              "        document.querySelector('#' + key + ' button');\n",
              "      quickchartButtonEl.disabled = true;  // To prevent multiple clicks.\n",
              "      quickchartButtonEl.classList.add('colab-df-spinner');\n",
              "      try {\n",
              "        const charts = await google.colab.kernel.invokeFunction(\n",
              "            'suggestCharts', [key], {});\n",
              "      } catch (error) {\n",
              "        console.error('Error during call to suggestCharts:', error);\n",
              "      }\n",
              "      quickchartButtonEl.classList.remove('colab-df-spinner');\n",
              "      quickchartButtonEl.classList.add('colab-df-quickchart-complete');\n",
              "    }\n",
              "    (() => {\n",
              "      let quickchartButtonEl =\n",
              "        document.querySelector('#df-23038e90-4433-42a2-8c97-7e879edc78fc button');\n",
              "      quickchartButtonEl.style.display =\n",
              "        google.colab.kernel.accessAllowed ? 'block' : 'none';\n",
              "    })();\n",
              "  </script>\n",
              "</div>\n",
              "\n",
              "    </div>\n",
              "  </div>\n"
            ],
            "application/vnd.google.colaboratory.intrinsic+json": {
              "type": "dataframe",
              "variable_name": "df",
              "summary": "{\n  \"name\": \"df\",\n  \"rows\": 99,\n  \"fields\": [\n    {\n      \"column\": \"X\",\n      \"properties\": {\n        \"dtype\": \"number\",\n        \"std\": 0.8943130566096507,\n        \"min\": -1.318500344394381,\n        \"max\": 2.181371683049025,\n        \"num_unique_values\": 99,\n        \"samples\": [\n          0.1273314190904385,\n          0.6417403675063451,\n          0.21862323352500593\n        ],\n        \"semantic_type\": \"\",\n        \"description\": \"\"\n      }\n    },\n    {\n      \"column\": \"Y\",\n      \"properties\": {\n        \"dtype\": \"number\",\n        \"std\": 0.5909086142970595,\n        \"min\": -1.0357020680498332,\n        \"max\": 1.5718993127141032,\n        \"num_unique_values\": 99,\n        \"samples\": [\n          -0.3796548967118949,\n          -0.39369468370639576,\n          -0.6525211867631453\n        ],\n        \"semantic_type\": \"\",\n        \"description\": \"\"\n      }\n    },\n    {\n      \"column\": \"class\",\n      \"properties\": {\n        \"dtype\": \"number\",\n        \"std\": 0.5025189076296059,\n        \"min\": 0.0,\n        \"max\": 1.0,\n        \"num_unique_values\": 2,\n        \"samples\": [\n          0.0,\n          1.0\n        ],\n        \"semantic_type\": \"\",\n        \"description\": \"\"\n      }\n    }\n  ]\n}"
            }
          },
          "metadata": {},
          "execution_count": 122
        }
      ]
    },
    {
      "cell_type": "code",
      "source": [
        "plt.scatter(df['X'],df['Y'],c=df['class'])"
      ],
      "metadata": {
        "colab": {
          "base_uri": "https://localhost:8080/",
          "height": 447
        },
        "id": "ZuYqGD_mtuQG",
        "outputId": "e2e36d65-94ba-42de-d67b-a0279af1f5b6"
      },
      "execution_count": 123,
      "outputs": [
        {
          "output_type": "execute_result",
          "data": {
            "text/plain": [
              "<matplotlib.collections.PathCollection at 0x7e69d66433a0>"
            ]
          },
          "metadata": {},
          "execution_count": 123
        },
        {
          "output_type": "display_data",
          "data": {
            "text/plain": [
              "<Figure size 640x480 with 1 Axes>"
            ],
            "image/png": "[encoded data removed]"
          },
          "metadata": {}
        }
      ]
    },
    {
      "cell_type": "code",
      "source": [
        "X = df.iloc[:,0:2].values\n",
        "y = df.iloc[:,-1].values"
      ],
      "metadata": {
        "id": "nwXuHnqhtwEJ"
      },
      "execution_count": 124,
      "outputs": []
    },
    {
      "cell_type": "code",
      "source": [
        "import tensorflow\n",
        "from tensorflow import keras\n",
        "from keras import Sequential\n",
        "from keras.layers import Dense"
      ],
      "metadata": {
        "id": "ylDVIM8Ltx0H"
      },
      "execution_count": 125,
      "outputs": []
    },
    {
      "cell_type": "code",
      "source": [
        "model = Sequential()\n",
        "\n",
        "model.add(Dense(10,activation='relu',input_dim=2,kernel_initializer='he_normal'))\n",
        "model.add(Dense(10,activation='relu',kernel_initializer='he_normal'))\n",
        "model.add(Dense(10,activation='relu',kernel_initializer='he_normal'))\n",
        "model.add(Dense(10,activation='relu',kernel_initializer='he_normal'))\n",
        "model.add(Dense(1,activation='sigmoid'))\n",
        "\n",
        "model.summary()"
      ],
      "metadata": {
        "colab": {
          "base_uri": "https://localhost:8080/",
          "height": 344
        },
        "id": "id8rhK5OtzVX",
        "outputId": "a0065a52-4255-42e5-ff18-aceff0fe73da"
      },
      "execution_count": 126,
      "outputs": [
        {
          "output_type": "stream",
          "name": "stderr",
          "text": [
            "/usr/local/lib/python3.10/dist-packages/keras/src/layers/core/dense.py:87: UserWarning: Do not pass an `input_shape`/`input_dim` argument to a layer. When using Sequential models, prefer using an `Input(shape)` object as the first layer in the model instead.\n",
            "  super().__init__(activity_regularizer=activity_regularizer, **kwargs)\n"
          ]
        },
        {
          "output_type": "display_data",
          "data": {
            "text/plain": [
              "\u001b[1mModel: \"sequential_6\"\u001b[0m\n"
            ],
            "text/html": [
              "<pre style=\"white-space:pre;overflow-x:auto;line-height:normal;font-family:Menlo,'DejaVu Sans Mono',consolas,'Courier New',monospace\"><span style=\"font-weight: bold\">Model: \"sequential_6\"</span>\n",
              "</pre>\n"
            ]
          },
          "metadata": {}
        },
        {
          "output_type": "display_data",
          "data": {
            "text/plain": [
              "┏━━━━━━━━━━━━━━━━━━━━━━━━━━━━━━━━━━━━━━┳━━━━━━━━━━━━━━━━━━━━━━━━━━━━━┳━━━━━━━━━━━━━━━━━┓\n",
              "┃\u001b[1m \u001b[0m\u001b[1mLayer (type)                        \u001b[0m\u001b[1m \u001b[0m┃\u001b[1m \u001b[0m\u001b[1mOutput Shape               \u001b[0m\u001b[1m \u001b[0m┃\u001b[1m \u001b[0m\u001b[1m        Param #\u001b[0m\u001b[1m \u001b[0m┃\n",
              "┡━━━━━━━━━━━━━━━━━━━━━━━━━━━━━━━━━━━━━━╇━━━━━━━━━━━━━━━━━━━━━━━━━━━━━╇━━━━━━━━━━━━━━━━━┩\n",
              "│ dense_30 (\u001b[38;5;33mDense\u001b[0m)                     │ (\u001b[38;5;45mNone\u001b[0m, \u001b[38;5;34m10\u001b[0m)                  │              \u001b[38;5;34m30\u001b[0m │\n",
              "├──────────────────────────────────────┼─────────────────────────────┼─────────────────┤\n",
              "│ dense_31 (\u001b[38;5;33mDense\u001b[0m)                     │ (\u001b[38;5;45mNone\u001b[0m, \u001b[38;5;34m10\u001b[0m)                  │             \u001b[38;5;34m110\u001b[0m │\n",
              "├──────────────────────────────────────┼─────────────────────────────┼─────────────────┤\n",
              "│ dense_32 (\u001b[38;5;33mDense\u001b[0m)                     │ (\u001b[38;5;45mNone\u001b[0m, \u001b[38;5;34m10\u001b[0m)                  │             \u001b[38;5;34m110\u001b[0m │\n",
              "├──────────────────────────────────────┼─────────────────────────────┼─────────────────┤\n",
              "│ dense_33 (\u001b[38;5;33mDense\u001b[0m)                     │ (\u001b[38;5;45mNone\u001b[0m, \u001b[38;5;34m10\u001b[0m)                  │             \u001b[38;5;34m110\u001b[0m │\n",
              "├──────────────────────────────────────┼─────────────────────────────┼─────────────────┤\n",
              "│ dense_34 (\u001b[38;5;33mDense\u001b[0m)                     │ (\u001b[38;5;45mNone\u001b[0m, \u001b[38;5;34m1\u001b[0m)                   │              \u001b[38;5;34m11\u001b[0m │\n",
              "└──────────────────────────────────────┴─────────────────────────────┴─────────────────┘\n"
            ],
            "text/html": [
              "<pre style=\"white-space:pre;overflow-x:auto;line-height:normal;font-family:Menlo,'DejaVu Sans Mono',consolas,'Courier New',monospace\">┏━━━━━━━━━━━━━━━━━━━━━━━━━━━━━━━━━━━━━━┳━━━━━━━━━━━━━━━━━━━━━━━━━━━━━┳━━━━━━━━━━━━━━━━━┓\n",
              "┃<span style=\"font-weight: bold\"> Layer (type)                         </span>┃<span style=\"font-weight: bold\"> Output Shape                </span>┃<span style=\"font-weight: bold\">         Param # </span>┃\n",
              "┡━━━━━━━━━━━━━━━━━━━━━━━━━━━━━━━━━━━━━━╇━━━━━━━━━━━━━━━━━━━━━━━━━━━━━╇━━━━━━━━━━━━━━━━━┩\n",
              "│ dense_30 (<span style=\"color: #0087ff; text-decoration-color: #0087ff\">Dense</span>)                     │ (<span style=\"color: #00d7ff; text-decoration-color: #00d7ff\">None</span>, <span style=\"color: #00af00; text-decoration-color: #00af00\">10</span>)                  │              <span style=\"color: #00af00; text-decoration-color: #00af00\">30</span> │\n",
              "├──────────────────────────────────────┼─────────────────────────────┼─────────────────┤\n",
              "│ dense_31 (<span style=\"color: #0087ff; text-decoration-color: #0087ff\">Dense</span>)                     │ (<span style=\"color: #00d7ff; text-decoration-color: #00d7ff\">None</span>, <span style=\"color: #00af00; text-decoration-color: #00af00\">10</span>)                  │             <span style=\"color: #00af00; text-decoration-color: #00af00\">110</span> │\n",
              "├──────────────────────────────────────┼─────────────────────────────┼─────────────────┤\n",
              "│ dense_32 (<span style=\"color: #0087ff; text-decoration-color: #0087ff\">Dense</span>)                     │ (<span style=\"color: #00d7ff; text-decoration-color: #00d7ff\">None</span>, <span style=\"color: #00af00; text-decoration-color: #00af00\">10</span>)                  │             <span style=\"color: #00af00; text-decoration-color: #00af00\">110</span> │\n",
              "├──────────────────────────────────────┼─────────────────────────────┼─────────────────┤\n",
              "│ dense_33 (<span style=\"color: #0087ff; text-decoration-color: #0087ff\">Dense</span>)                     │ (<span style=\"color: #00d7ff; text-decoration-color: #00d7ff\">None</span>, <span style=\"color: #00af00; text-decoration-color: #00af00\">10</span>)                  │             <span style=\"color: #00af00; text-decoration-color: #00af00\">110</span> │\n",
              "├──────────────────────────────────────┼─────────────────────────────┼─────────────────┤\n",
              "│ dense_34 (<span style=\"color: #0087ff; text-decoration-color: #0087ff\">Dense</span>)                     │ (<span style=\"color: #00d7ff; text-decoration-color: #00d7ff\">None</span>, <span style=\"color: #00af00; text-decoration-color: #00af00\">1</span>)                   │              <span style=\"color: #00af00; text-decoration-color: #00af00\">11</span> │\n",
              "└──────────────────────────────────────┴─────────────────────────────┴─────────────────┘\n",
              "</pre>\n"
            ]
          },
          "metadata": {}
        },
        {
          "output_type": "display_data",
          "data": {
            "text/plain": [
              "\u001b[1m Total params: \u001b[0m\u001b[38;5;34m371\u001b[0m (1.45 KB)\n"
            ],
            "text/html": [
              "<pre style=\"white-space:pre;overflow-x:auto;line-height:normal;font-family:Menlo,'DejaVu Sans Mono',consolas,'Courier New',monospace\"><span style=\"font-weight: bold\"> Total params: </span><span style=\"color: #00af00; text-decoration-color: #00af00\">371</span> (1.45 KB)\n",
              "</pre>\n"
            ]
          },
          "metadata": {}
        },
        {
          "output_type": "display_data",
          "data": {
            "text/plain": [
              "\u001b[1m Trainable params: \u001b[0m\u001b[38;5;34m371\u001b[0m (1.45 KB)\n"
            ],
            "text/html": [
              "<pre style=\"white-space:pre;overflow-x:auto;line-height:normal;font-family:Menlo,'DejaVu Sans Mono',consolas,'Courier New',monospace\"><span style=\"font-weight: bold\"> Trainable params: </span><span style=\"color: #00af00; text-decoration-color: #00af00\">371</span> (1.45 KB)\n",
              "</pre>\n"
            ]
          },
          "metadata": {}
        },
        {
          "output_type": "display_data",
          "data": {
            "text/plain": [
              "\u001b[1m Non-trainable params: \u001b[0m\u001b[38;5;34m0\u001b[0m (0.00 B)\n"
            ],
            "text/html": [
              "<pre style=\"white-space:pre;overflow-x:auto;line-height:normal;font-family:Menlo,'DejaVu Sans Mono',consolas,'Courier New',monospace\"><span style=\"font-weight: bold\"> Non-trainable params: </span><span style=\"color: #00af00; text-decoration-color: #00af00\">0</span> (0.00 B)\n",
              "</pre>\n"
            ]
          },
          "metadata": {}
        }
      ]
    },
    {
      "cell_type": "code",
      "source": [
        "model.get_weights()"
      ],
      "metadata": {
        "colab": {
          "base_uri": "https://localhost:8080/"
        },
        "id": "YjST2L1qt1UP",
        "outputId": "67cc8cc4-dbd8-47b2-9f4b-b066e70cb7c2"
      },
      "execution_count": 127,
      "outputs": [
        {
          "output_type": "execute_result",
          "data": {
            "text/plain": [
              "[array([[ 0.43395984,  1.7731613 ,  0.31457698,  0.8619117 ,  0.12978911,\n",
              "          0.85273165,  2.1556597 , -1.6135008 , -0.2048358 ,  0.44704401],\n",
              "        [-0.1113114 ,  0.25007445,  1.7528551 , -0.20524593, -1.5441527 ,\n",
              "         -1.1188631 ,  0.52519304,  0.6918601 , -0.2327368 ,  0.31872046]],\n",
              "       dtype=float32),\n",
              " array([0., 0., 0., 0., 0., 0., 0., 0., 0., 0.], dtype=float32),\n",
              " array([[-4.45166945e-01, -4.50256139e-01, -3.83323461e-01,\n",
              "          3.83105189e-01,  1.95110261e-01,  2.92201608e-01,\n",
              "         -2.71632642e-01, -3.26882042e-02, -1.46201164e-01,\n",
              "         -6.76581681e-01],\n",
              "        [ 5.16016304e-01, -9.99446288e-02,  5.21302044e-01,\n",
              "         -4.87027615e-02, -2.07894489e-01, -1.51968244e-02,\n",
              "         -4.68282819e-01,  3.85722965e-01,  3.43850881e-01,\n",
              "          3.02155375e-01],\n",
              "        [-4.43168171e-02,  9.37699750e-02,  7.19485581e-02,\n",
              "         -3.58901918e-01, -1.88682094e-01,  5.26017547e-01,\n",
              "          7.65476465e-01,  9.05572593e-01, -2.94543415e-01,\n",
              "         -1.00962177e-01],\n",
              "        [-3.53106588e-01,  9.17869031e-01,  3.41399819e-01,\n",
              "         -1.64487541e-01,  6.09904490e-02, -6.21273935e-01,\n",
              "          3.95443439e-01, -6.22426331e-01,  1.34445652e-01,\n",
              "          6.76518321e-01],\n",
              "        [-9.38839838e-02,  2.72343010e-01, -6.71444833e-01,\n",
              "          4.00374711e-01, -1.13049470e-01, -2.93472648e-01,\n",
              "          2.54543781e-01,  2.17979357e-01, -2.38833264e-01,\n",
              "          4.05813962e-01],\n",
              "        [-6.64628819e-02, -6.84819520e-01,  2.05448195e-01,\n",
              "         -2.87107885e-01,  8.40573251e-01,  7.35196352e-01,\n",
              "          2.81502694e-01,  2.20024630e-01,  5.69009900e-01,\n",
              "         -2.74617285e-01],\n",
              "        [ 3.89203936e-01,  2.38567755e-01,  9.47438329e-02,\n",
              "          6.11326039e-01,  6.37399733e-01, -1.23429641e-01,\n",
              "         -1.14039376e-01, -8.16001415e-01,  3.33021581e-01,\n",
              "         -3.83258849e-01],\n",
              "        [-1.23133816e-01, -2.97623694e-01, -2.48330116e-01,\n",
              "         -2.39613295e-01,  2.34501377e-01,  8.32829326e-02,\n",
              "         -5.60816586e-01,  1.71068683e-01,  9.02493135e-04,\n",
              "         -2.71979928e-01],\n",
              "        [ 1.98360220e-01, -6.91359937e-01,  3.82268727e-01,\n",
              "         -3.50565702e-01, -3.89774263e-01, -3.24451029e-02,\n",
              "         -6.34678900e-01, -4.12431747e-01,  3.55080841e-03,\n",
              "         -1.79126054e-01],\n",
              "        [-4.99886602e-01,  2.96686560e-01, -3.25632572e-01,\n",
              "         -5.32988787e-01, -7.60941386e-01,  5.22701621e-01,\n",
              "          3.34848851e-01, -5.64912915e-01,  5.40019810e-01,\n",
              "         -8.15194994e-02]], dtype=float32),\n",
              " array([0., 0., 0., 0., 0., 0., 0., 0., 0., 0.], dtype=float32),\n",
              " array([[-0.12711723, -0.14431687, -0.13024782, -0.00854598, -0.05158821,\n",
              "          0.96845657,  0.33014286,  0.24350613,  0.15498768,  0.46829572],\n",
              "        [-0.58563536, -0.1220938 , -0.74158394, -0.40202665,  0.82240015,\n",
              "          0.5711813 ,  0.42255014, -0.2807295 , -0.79649055, -0.36242905],\n",
              "        [ 0.9477523 , -0.08607342, -0.23765168,  0.00196232, -0.29463637,\n",
              "         -0.9730965 ,  0.35225135, -0.07433621,  0.43581298, -0.01996895],\n",
              "        [ 0.6497599 , -0.78377604, -0.644351  ,  0.12253992, -0.29881135,\n",
              "          0.8539865 ,  0.17024025,  0.05648357, -0.26330495,  0.09930763],\n",
              "        [-0.5404131 , -0.23269147,  0.57543117,  0.25607374, -0.03818173,\n",
              "         -0.7641618 ,  0.5777662 ,  0.4060891 , -0.01857687, -0.78172565],\n",
              "        [-0.79976773, -0.4066162 , -0.7950781 , -0.606061  , -0.17998186,\n",
              "         -0.40253702, -0.36290914,  0.32204193,  0.3061561 , -0.02626386],\n",
              "        [ 0.21937716, -0.21920043, -0.02593789,  0.4488938 ,  0.5132808 ,\n",
              "         -0.62621546,  0.21019287, -0.12067559, -0.16399802,  0.36148226],\n",
              "        [-0.62219095, -0.22351243, -0.7081315 , -0.38890928,  0.23526888,\n",
              "          0.6583906 , -0.6953071 ,  0.66620064, -0.14692914,  0.42974865],\n",
              "        [ 0.7647907 , -0.12028184, -0.46249986, -0.0779084 ,  0.5513641 ,\n",
              "          0.31126085,  0.7598703 , -0.61276156, -0.5704854 , -0.3148802 ],\n",
              "        [-0.19945122,  0.48969543,  0.04842776,  0.15792981,  0.04503149,\n",
              "          0.24802288, -0.2573058 ,  0.24309717,  0.05096478,  0.52651495]],\n",
              "       dtype=float32),\n",
              " array([0., 0., 0., 0., 0., 0., 0., 0., 0., 0.], dtype=float32),\n",
              " array([[-1.01382065e+00, -5.59461176e-01, -6.12535514e-02,\n",
              "          2.52342165e-01, -2.39266589e-01, -3.56851637e-01,\n",
              "          6.01467937e-02,  4.68923688e-01, -2.25158006e-01,\n",
              "         -7.76086628e-01],\n",
              "        [ 2.95148909e-01,  7.43022785e-02,  9.18825343e-02,\n",
              "         -2.83295214e-01, -1.32553056e-01, -5.92144370e-01,\n",
              "         -6.79077283e-02, -4.53803271e-01,  3.17131549e-01,\n",
              "          7.84193072e-03],\n",
              "        [ 8.30560148e-01, -4.14880253e-02,  6.01939678e-01,\n",
              "          9.30916846e-01,  4.66382921e-01, -3.30400318e-01,\n",
              "         -1.73841819e-01, -3.15825008e-02,  6.34950176e-02,\n",
              "         -4.38319892e-01],\n",
              "        [ 5.87368846e-01, -1.85989037e-01, -3.21106672e-01,\n",
              "          8.31919536e-03,  3.62953216e-01, -1.29245490e-01,\n",
              "          3.91924173e-01, -5.03293157e-01,  1.39632136e-01,\n",
              "         -7.33171850e-02],\n",
              "        [-2.12415531e-01, -4.84713584e-01,  4.18901682e-01,\n",
              "         -5.23557723e-01, -4.71125036e-01,  2.50677586e-01,\n",
              "         -2.35194281e-01, -6.46959364e-01, -3.01629275e-01,\n",
              "         -6.79453373e-01],\n",
              "        [ 3.19611847e-01, -5.39581180e-01, -3.88210803e-01,\n",
              "          6.49444520e-01,  5.70957541e-01,  4.26827148e-02,\n",
              "          2.53847420e-01, -7.28513777e-01, -3.16872187e-02,\n",
              "          2.92779386e-01],\n",
              "        [ 3.28535348e-01,  1.73719302e-01,  6.03641719e-02,\n",
              "          5.05547679e-04, -6.29984856e-01, -8.31021369e-01,\n",
              "          5.76007903e-01,  4.26594228e-01,  1.79897174e-01,\n",
              "          8.08534563e-01],\n",
              "        [-2.77613103e-01, -5.23571551e-01, -5.28624177e-01,\n",
              "         -3.26065153e-01,  6.59730196e-01,  8.17428052e-01,\n",
              "          6.47101521e-01,  3.53880048e-01, -3.26498747e-01,\n",
              "          2.08469421e-01],\n",
              "        [ 1.24963164e-01, -3.81982684e-01,  3.01042765e-01,\n",
              "         -5.18559337e-01, -5.51277399e-01, -6.36103988e-01,\n",
              "         -3.53369504e-01, -2.89120227e-01, -1.92614608e-02,\n",
              "          2.11273715e-01],\n",
              "        [ 2.23947883e-01, -4.35278118e-01, -1.16736934e-01,\n",
              "          9.54500660e-02, -7.37402499e-01,  4.80247766e-01,\n",
              "         -5.43063998e-01, -6.79354250e-01,  3.64934057e-01,\n",
              "          8.47538292e-01]], dtype=float32),\n",
              " array([0., 0., 0., 0., 0., 0., 0., 0., 0., 0.], dtype=float32),\n",
              " array([[-0.37798727],\n",
              "        [-0.48267558],\n",
              "        [ 0.12593001],\n",
              "        [ 0.33881062],\n",
              "        [ 0.70955354],\n",
              "        [-0.27443135],\n",
              "        [ 0.62000316],\n",
              "        [ 0.05208117],\n",
              "        [-0.61302865],\n",
              "        [-0.5846919 ]], dtype=float32),\n",
              " array([0.], dtype=float32)]"
            ]
          },
          "metadata": {},
          "execution_count": 127
        }
      ]
    },
    {
      "cell_type": "code",
      "source": [
        "initial_weights = model.get_weights()"
      ],
      "metadata": {
        "id": "SNnRle4Dt4bc"
      },
      "execution_count": 128,
      "outputs": []
    },
    {
      "cell_type": "code",
      "source": [
        "#initial_weights[0] = np.random.randn(2,10)*np.sqrt(1/2)\n",
        "#initial_weights[1] = np.zeros(model.get_weights()[1].shape)\n",
        "#initial_weights[2] = np.random.randn(10,10)*np.sqrt(1/10)\n",
        "#initial_weights[3] = np.zeros(model.get_weights()[3].shape)\n",
        "#initial_weights[4] = np.random.randn(10,10)*np.sqrt(1/10)\n",
        "#initial_weights[5] = np.zeros(model.get_weights()[5].shape)\n",
        "#initial_weights[6] = np.random.randn(10,10)*np.sqrt(1/10)\n",
        "#initial_weights[7] = np.zeros(model.get_weights()[7].shape)\n",
        "#initial_weights[8] = np.random.randn(10,1)*np.sqrt(1/10)\n",
        "#initial_weights[9] = np.zeros(model.get_weights()[9].shape)"
      ],
      "metadata": {
        "id": "T6mklkSot6GI"
      },
      "execution_count": 129,
      "outputs": []
    },
    {
      "cell_type": "code",
      "source": [
        "model.set_weights(initial_weights)"
      ],
      "metadata": {
        "id": "cnoX9yK8ueEM"
      },
      "execution_count": 130,
      "outputs": []
    },
    {
      "cell_type": "code",
      "source": [
        "model.get_weights()"
      ],
      "metadata": {
        "colab": {
          "base_uri": "https://localhost:8080/"
        },
        "id": "1guey_KUujTP",
        "outputId": "d9afc71b-3f9f-4526-b7b9-6b1e934cc7ff"
      },
      "execution_count": 131,
      "outputs": [
        {
          "output_type": "execute_result",
          "data": {
            "text/plain": [
              "[array([[ 0.43395984,  1.7731613 ,  0.31457698,  0.8619117 ,  0.12978911,\n",
              "          0.85273165,  2.1556597 , -1.6135008 , -0.2048358 ,  0.44704401],\n",
              "        [-0.1113114 ,  0.25007445,  1.7528551 , -0.20524593, -1.5441527 ,\n",
              "         -1.1188631 ,  0.52519304,  0.6918601 , -0.2327368 ,  0.31872046]],\n",
              "       dtype=float32),\n",
              " array([0., 0., 0., 0., 0., 0., 0., 0., 0., 0.], dtype=float32),\n",
              " array([[-4.45166945e-01, -4.50256139e-01, -3.83323461e-01,\n",
              "          3.83105189e-01,  1.95110261e-01,  2.92201608e-01,\n",
              "         -2.71632642e-01, -3.26882042e-02, -1.46201164e-01,\n",
              "         -6.76581681e-01],\n",
              "        [ 5.16016304e-01, -9.99446288e-02,  5.21302044e-01,\n",
              "         -4.87027615e-02, -2.07894489e-01, -1.51968244e-02,\n",
              "         -4.68282819e-01,  3.85722965e-01,  3.43850881e-01,\n",
              "          3.02155375e-01],\n",
              "        [-4.43168171e-02,  9.37699750e-02,  7.19485581e-02,\n",
              "         -3.58901918e-01, -1.88682094e-01,  5.26017547e-01,\n",
              "          7.65476465e-01,  9.05572593e-01, -2.94543415e-01,\n",
              "         -1.00962177e-01],\n",
              "        [-3.53106588e-01,  9.17869031e-01,  3.41399819e-01,\n",
              "         -1.64487541e-01,  6.09904490e-02, -6.21273935e-01,\n",
              "          3.95443439e-01, -6.22426331e-01,  1.34445652e-01,\n",
              "          6.76518321e-01],\n",
              "        [-9.38839838e-02,  2.72343010e-01, -6.71444833e-01,\n",
              "          4.00374711e-01, -1.13049470e-01, -2.93472648e-01,\n",
              "          2.54543781e-01,  2.17979357e-01, -2.38833264e-01,\n",
              "          4.05813962e-01],\n",
              "        [-6.64628819e-02, -6.84819520e-01,  2.05448195e-01,\n",
              "         -2.87107885e-01,  8.40573251e-01,  7.35196352e-01,\n",
              "          2.81502694e-01,  2.20024630e-01,  5.69009900e-01,\n",
              "         -2.74617285e-01],\n",
              "        [ 3.89203936e-01,  2.38567755e-01,  9.47438329e-02,\n",
              "          6.11326039e-01,  6.37399733e-01, -1.23429641e-01,\n",
              "         -1.14039376e-01, -8.16001415e-01,  3.33021581e-01,\n",
              "         -3.83258849e-01],\n",
              "        [-1.23133816e-01, -2.97623694e-01, -2.48330116e-01,\n",
              "         -2.39613295e-01,  2.34501377e-01,  8.32829326e-02,\n",
              "         -5.60816586e-01,  1.71068683e-01,  9.02493135e-04,\n",
              "         -2.71979928e-01],\n",
              "        [ 1.98360220e-01, -6.91359937e-01,  3.82268727e-01,\n",
              "         -3.50565702e-01, -3.89774263e-01, -3.24451029e-02,\n",
              "         -6.34678900e-01, -4.12431747e-01,  3.55080841e-03,\n",
              "         -1.79126054e-01],\n",
              "        [-4.99886602e-01,  2.96686560e-01, -3.25632572e-01,\n",
              "         -5.32988787e-01, -7.60941386e-01,  5.22701621e-01,\n",
              "          3.34848851e-01, -5.64912915e-01,  5.40019810e-01,\n",
              "         -8.15194994e-02]], dtype=float32),\n",
              " array([0., 0., 0., 0., 0., 0., 0., 0., 0., 0.], dtype=float32),\n",
              " array([[-0.12711723, -0.14431687, -0.13024782, -0.00854598, -0.05158821,\n",
              "          0.96845657,  0.33014286,  0.24350613,  0.15498768,  0.46829572],\n",
              "        [-0.58563536, -0.1220938 , -0.74158394, -0.40202665,  0.82240015,\n",
              "          0.5711813 ,  0.42255014, -0.2807295 , -0.79649055, -0.36242905],\n",
              "        [ 0.9477523 , -0.08607342, -0.23765168,  0.00196232, -0.29463637,\n",
              "         -0.9730965 ,  0.35225135, -0.07433621,  0.43581298, -0.01996895],\n",
              "        [ 0.6497599 , -0.78377604, -0.644351  ,  0.12253992, -0.29881135,\n",
              "          0.8539865 ,  0.17024025,  0.05648357, -0.26330495,  0.09930763],\n",
              "        [-0.5404131 , -0.23269147,  0.57543117,  0.25607374, -0.03818173,\n",
              "         -0.7641618 ,  0.5777662 ,  0.4060891 , -0.01857687, -0.78172565],\n",
              "        [-0.79976773, -0.4066162 , -0.7950781 , -0.606061  , -0.17998186,\n",
              "         -0.40253702, -0.36290914,  0.32204193,  0.3061561 , -0.02626386],\n",
              "        [ 0.21937716, -0.21920043, -0.02593789,  0.4488938 ,  0.5132808 ,\n",
              "         -0.62621546,  0.21019287, -0.12067559, -0.16399802,  0.36148226],\n",
              "        [-0.62219095, -0.22351243, -0.7081315 , -0.38890928,  0.23526888,\n",
              "          0.6583906 , -0.6953071 ,  0.66620064, -0.14692914,  0.42974865],\n",
              "        [ 0.7647907 , -0.12028184, -0.46249986, -0.0779084 ,  0.5513641 ,\n",
              "          0.31126085,  0.7598703 , -0.61276156, -0.5704854 , -0.3148802 ],\n",
              "        [-0.19945122,  0.48969543,  0.04842776,  0.15792981,  0.04503149,\n",
              "          0.24802288, -0.2573058 ,  0.24309717,  0.05096478,  0.52651495]],\n",
              "       dtype=float32),\n",
              " array([0., 0., 0., 0., 0., 0., 0., 0., 0., 0.], dtype=float32),\n",
              " array([[-1.01382065e+00, -5.59461176e-01, -6.12535514e-02,\n",
              "          2.52342165e-01, -2.39266589e-01, -3.56851637e-01,\n",
              "          6.01467937e-02,  4.68923688e-01, -2.25158006e-01,\n",
              "         -7.76086628e-01],\n",
              "        [ 2.95148909e-01,  7.43022785e-02,  9.18825343e-02,\n",
              "         -2.83295214e-01, -1.32553056e-01, -5.92144370e-01,\n",
              "         -6.79077283e-02, -4.53803271e-01,  3.17131549e-01,\n",
              "          7.84193072e-03],\n",
              "        [ 8.30560148e-01, -4.14880253e-02,  6.01939678e-01,\n",
              "          9.30916846e-01,  4.66382921e-01, -3.30400318e-01,\n",
              "         -1.73841819e-01, -3.15825008e-02,  6.34950176e-02,\n",
              "         -4.38319892e-01],\n",
              "        [ 5.87368846e-01, -1.85989037e-01, -3.21106672e-01,\n",
              "          8.31919536e-03,  3.62953216e-01, -1.29245490e-01,\n",
              "          3.91924173e-01, -5.03293157e-01,  1.39632136e-01,\n",
              "         -7.33171850e-02],\n",
              "        [-2.12415531e-01, -4.84713584e-01,  4.18901682e-01,\n",
              "         -5.23557723e-01, -4.71125036e-01,  2.50677586e-01,\n",
              "         -2.35194281e-01, -6.46959364e-01, -3.01629275e-01,\n",
              "         -6.79453373e-01],\n",
              "        [ 3.19611847e-01, -5.39581180e-01, -3.88210803e-01,\n",
              "          6.49444520e-01,  5.70957541e-01,  4.26827148e-02,\n",
              "          2.53847420e-01, -7.28513777e-01, -3.16872187e-02,\n",
              "          2.92779386e-01],\n",
              "        [ 3.28535348e-01,  1.73719302e-01,  6.03641719e-02,\n",
              "          5.05547679e-04, -6.29984856e-01, -8.31021369e-01,\n",
              "          5.76007903e-01,  4.26594228e-01,  1.79897174e-01,\n",
              "          8.08534563e-01],\n",
              "        [-2.77613103e-01, -5.23571551e-01, -5.28624177e-01,\n",
              "         -3.26065153e-01,  6.59730196e-01,  8.17428052e-01,\n",
              "          6.47101521e-01,  3.53880048e-01, -3.26498747e-01,\n",
              "          2.08469421e-01],\n",
              "        [ 1.24963164e-01, -3.81982684e-01,  3.01042765e-01,\n",
              "         -5.18559337e-01, -5.51277399e-01, -6.36103988e-01,\n",
              "         -3.53369504e-01, -2.89120227e-01, -1.92614608e-02,\n",
              "          2.11273715e-01],\n",
              "        [ 2.23947883e-01, -4.35278118e-01, -1.16736934e-01,\n",
              "          9.54500660e-02, -7.37402499e-01,  4.80247766e-01,\n",
              "         -5.43063998e-01, -6.79354250e-01,  3.64934057e-01,\n",
              "          8.47538292e-01]], dtype=float32),\n",
              " array([0., 0., 0., 0., 0., 0., 0., 0., 0., 0.], dtype=float32),\n",
              " array([[-0.37798727],\n",
              "        [-0.48267558],\n",
              "        [ 0.12593001],\n",
              "        [ 0.33881062],\n",
              "        [ 0.70955354],\n",
              "        [-0.27443135],\n",
              "        [ 0.62000316],\n",
              "        [ 0.05208117],\n",
              "        [-0.61302865],\n",
              "        [-0.5846919 ]], dtype=float32),\n",
              " array([0.], dtype=float32)]"
            ]
          },
          "metadata": {},
          "execution_count": 131
        }
      ]
    },
    {
      "cell_type": "code",
      "source": [
        "model.compile(loss='binary_crossentropy',optimizer='adam',metrics=['accuracy'])"
      ],
      "metadata": {
        "id": "bjAyhD8mulGG"
      },
      "execution_count": 132,
      "outputs": []
    },
    {
      "cell_type": "code",
      "source": [
        "history = model.fit(X,y,epochs=100,validation_split=0.2)"
      ],
      "metadata": {
        "colab": {
          "base_uri": "https://localhost:8080/"
        },
        "id": "H1wa0jCaun8z",
        "outputId": "6fc97653-c625-43c6-9e72-0e2d50b23b36"
      },
      "execution_count": 133,
      "outputs": [
        {
          "output_type": "stream",
          "name": "stdout",
          "text": [
            "Epoch 1/100\n",
            "\u001b[1m3/3\u001b[0m \u001b[32m━━━━━━━━━━━━━━━━━━━━\u001b[0m\u001b[37m\u001b[0m \u001b[1m2s\u001b[0m 107ms/step - accuracy: 0.6148 - loss: 0.6203 - val_accuracy: 0.6000 - val_loss: 0.5898\n",
            "Epoch 2/100\n",
            "\u001b[1m3/3\u001b[0m \u001b[32m━━━━━━━━━━━━━━━━━━━━\u001b[0m\u001b[37m\u001b[0m \u001b[1m0s\u001b[0m 19ms/step - accuracy: 0.6343 - loss: 0.5962 - val_accuracy: 0.6000 - val_loss: 0.5758\n",
            "Epoch 3/100\n",
            "\u001b[1m3/3\u001b[0m \u001b[32m━━━━━━━━━━━━━━━━━━━━\u001b[0m\u001b[37m\u001b[0m \u001b[1m0s\u001b[0m 17ms/step - accuracy: 0.6846 - loss: 0.5722 - val_accuracy: 0.6500 - val_loss: 0.5644\n",
            "Epoch 4/100\n",
            "\u001b[1m3/3\u001b[0m \u001b[32m━━━━━━━━━━━━━━━━━━━━\u001b[0m\u001b[37m\u001b[0m \u001b[1m0s\u001b[0m 17ms/step - accuracy: 0.6807 - loss: 0.5662 - val_accuracy: 0.7000 - val_loss: 0.5536\n",
            "Epoch 5/100\n",
            "\u001b[1m3/3\u001b[0m \u001b[32m━━━━━━━━━━━━━━━━━━━━\u001b[0m\u001b[37m\u001b[0m \u001b[1m0s\u001b[0m 15ms/step - accuracy: 0.6807 - loss: 0.5598 - val_accuracy: 0.7000 - val_loss: 0.5440\n",
            "Epoch 6/100\n",
            "\u001b[1m3/3\u001b[0m \u001b[32m━━━━━━━━━━━━━━━━━━━━\u001b[0m\u001b[37m\u001b[0m \u001b[1m0s\u001b[0m 16ms/step - accuracy: 0.6167 - loss: 0.5814 - val_accuracy: 0.7500 - val_loss: 0.5356\n",
            "Epoch 7/100\n",
            "\u001b[1m3/3\u001b[0m \u001b[32m━━━━━━━━━━━━━━━━━━━━\u001b[0m\u001b[37m\u001b[0m \u001b[1m0s\u001b[0m 18ms/step - accuracy: 0.6909 - loss: 0.5417 - val_accuracy: 0.7500 - val_loss: 0.5255\n",
            "Epoch 8/100\n",
            "\u001b[1m3/3\u001b[0m \u001b[32m━━━━━━━━━━━━━━━━━━━━\u001b[0m\u001b[37m\u001b[0m \u001b[1m0s\u001b[0m 16ms/step - accuracy: 0.7294 - loss: 0.5215 - val_accuracy: 0.7500 - val_loss: 0.5159\n",
            "Epoch 9/100\n",
            "\u001b[1m3/3\u001b[0m \u001b[32m━━━━━━━━━━━━━━━━━━━━\u001b[0m\u001b[37m\u001b[0m \u001b[1m0s\u001b[0m 16ms/step - accuracy: 0.7216 - loss: 0.5234 - val_accuracy: 0.7500 - val_loss: 0.5066\n",
            "Epoch 10/100\n",
            "\u001b[1m3/3\u001b[0m \u001b[32m━━━━━━━━━━━━━━━━━━━━\u001b[0m\u001b[37m\u001b[0m \u001b[1m0s\u001b[0m 17ms/step - accuracy: 0.7523 - loss: 0.5369 - val_accuracy: 0.7500 - val_loss: 0.4979\n",
            "Epoch 11/100\n",
            "\u001b[1m3/3\u001b[0m \u001b[32m━━━━━━━━━━━━━━━━━━━━\u001b[0m\u001b[37m\u001b[0m \u001b[1m0s\u001b[0m 17ms/step - accuracy: 0.7665 - loss: 0.5054 - val_accuracy: 0.8000 - val_loss: 0.4894\n",
            "Epoch 12/100\n",
            "\u001b[1m3/3\u001b[0m \u001b[32m━━━━━━━━━━━━━━━━━━━━\u001b[0m\u001b[37m\u001b[0m \u001b[1m0s\u001b[0m 16ms/step - accuracy: 0.7611 - loss: 0.5106 - val_accuracy: 0.8500 - val_loss: 0.4814\n",
            "Epoch 13/100\n",
            "\u001b[1m3/3\u001b[0m \u001b[32m━━━━━━━━━━━━━━━━━━━━\u001b[0m\u001b[37m\u001b[0m \u001b[1m0s\u001b[0m 15ms/step - accuracy: 0.7533 - loss: 0.5010 - val_accuracy: 0.8500 - val_loss: 0.4735\n",
            "Epoch 14/100\n",
            "\u001b[1m3/3\u001b[0m \u001b[32m━━━━━━━━━━━━━━━━━━━━\u001b[0m\u001b[37m\u001b[0m \u001b[1m0s\u001b[0m 16ms/step - accuracy: 0.7923 - loss: 0.4723 - val_accuracy: 0.8500 - val_loss: 0.4659\n",
            "Epoch 15/100\n",
            "\u001b[1m3/3\u001b[0m \u001b[32m━━━━━━━━━━━━━━━━━━━━\u001b[0m\u001b[37m\u001b[0m \u001b[1m0s\u001b[0m 16ms/step - accuracy: 0.7728 - loss: 0.4601 - val_accuracy: 0.8500 - val_loss: 0.4593\n",
            "Epoch 16/100\n",
            "\u001b[1m3/3\u001b[0m \u001b[32m━━━━━━━━━━━━━━━━━━━━\u001b[0m\u001b[37m\u001b[0m \u001b[1m0s\u001b[0m 14ms/step - accuracy: 0.7752 - loss: 0.4825 - val_accuracy: 0.8500 - val_loss: 0.4508\n",
            "Epoch 17/100\n",
            "\u001b[1m3/3\u001b[0m \u001b[32m━━━━━━━━━━━━━━━━━━━━\u001b[0m\u001b[37m\u001b[0m \u001b[1m0s\u001b[0m 21ms/step - accuracy: 0.7987 - loss: 0.4393 - val_accuracy: 0.8500 - val_loss: 0.4416\n",
            "Epoch 18/100\n",
            "\u001b[1m3/3\u001b[0m \u001b[32m━━━━━━━━━━━━━━━━━━━━\u001b[0m\u001b[37m\u001b[0m \u001b[1m0s\u001b[0m 80ms/step - accuracy: 0.8113 - loss: 0.4344 - val_accuracy: 0.8500 - val_loss: 0.4323\n",
            "Epoch 19/100\n",
            "\u001b[1m3/3\u001b[0m \u001b[32m━━━━━━━━━━━━━━━━━━━━\u001b[0m\u001b[37m\u001b[0m \u001b[1m0s\u001b[0m 27ms/step - accuracy: 0.8191 - loss: 0.4446 - val_accuracy: 0.8500 - val_loss: 0.4220\n",
            "Epoch 20/100\n",
            "\u001b[1m3/3\u001b[0m \u001b[32m━━━━━━━━━━━━━━━━━━━━\u001b[0m\u001b[37m\u001b[0m \u001b[1m0s\u001b[0m 30ms/step - accuracy: 0.8255 - loss: 0.4286 - val_accuracy: 0.8500 - val_loss: 0.4113\n",
            "Epoch 21/100\n",
            "\u001b[1m3/3\u001b[0m \u001b[32m━━━━━━━━━━━━━━━━━━━━\u001b[0m\u001b[37m\u001b[0m \u001b[1m0s\u001b[0m 17ms/step - accuracy: 0.8294 - loss: 0.4160 - val_accuracy: 0.9000 - val_loss: 0.4011\n",
            "Epoch 22/100\n",
            "\u001b[1m3/3\u001b[0m \u001b[32m━━━━━━━━━━━━━━━━━━━━\u001b[0m\u001b[37m\u001b[0m \u001b[1m0s\u001b[0m 16ms/step - accuracy: 0.8630 - loss: 0.4015 - val_accuracy: 0.9500 - val_loss: 0.3924\n",
            "Epoch 23/100\n",
            "\u001b[1m3/3\u001b[0m \u001b[32m━━━━━━━━━━━━━━━━━━━━\u001b[0m\u001b[37m\u001b[0m \u001b[1m0s\u001b[0m 16ms/step - accuracy: 0.8396 - loss: 0.4151 - val_accuracy: 0.9500 - val_loss: 0.3852\n",
            "Epoch 24/100\n",
            "\u001b[1m3/3\u001b[0m \u001b[32m━━━━━━━━━━━━━━━━━━━━\u001b[0m\u001b[37m\u001b[0m \u001b[1m0s\u001b[0m 16ms/step - accuracy: 0.8318 - loss: 0.4147 - val_accuracy: 0.9500 - val_loss: 0.3795\n",
            "Epoch 25/100\n",
            "\u001b[1m3/3\u001b[0m \u001b[32m━━━━━━━━━━━━━━━━━━━━\u001b[0m\u001b[37m\u001b[0m \u001b[1m0s\u001b[0m 20ms/step - accuracy: 0.8342 - loss: 0.4138 - val_accuracy: 0.9500 - val_loss: 0.3735\n",
            "Epoch 26/100\n",
            "\u001b[1m3/3\u001b[0m \u001b[32m━━━━━━━━━━━━━━━━━━━━\u001b[0m\u001b[37m\u001b[0m \u001b[1m0s\u001b[0m 15ms/step - accuracy: 0.8420 - loss: 0.4075 - val_accuracy: 0.9500 - val_loss: 0.3679\n",
            "Epoch 27/100\n",
            "\u001b[1m3/3\u001b[0m \u001b[32m━━━━━━━━━━━━━━━━━━━━\u001b[0m\u001b[37m\u001b[0m \u001b[1m0s\u001b[0m 15ms/step - accuracy: 0.8655 - loss: 0.3799 - val_accuracy: 0.9500 - val_loss: 0.3611\n",
            "Epoch 28/100\n",
            "\u001b[1m3/3\u001b[0m \u001b[32m━━━━━━━━━━━━━━━━━━━━\u001b[0m\u001b[37m\u001b[0m \u001b[1m0s\u001b[0m 16ms/step - accuracy: 0.8537 - loss: 0.3918 - val_accuracy: 0.9500 - val_loss: 0.3559\n",
            "Epoch 29/100\n",
            "\u001b[1m3/3\u001b[0m \u001b[32m━━━━━━━━━━━━━━━━━━━━\u001b[0m\u001b[37m\u001b[0m \u001b[1m0s\u001b[0m 17ms/step - accuracy: 0.8420 - loss: 0.4060 - val_accuracy: 0.9500 - val_loss: 0.3518\n",
            "Epoch 30/100\n",
            "\u001b[1m3/3\u001b[0m \u001b[32m━━━━━━━━━━━━━━━━━━━━\u001b[0m\u001b[37m\u001b[0m \u001b[1m0s\u001b[0m 16ms/step - accuracy: 0.8537 - loss: 0.3691 - val_accuracy: 0.9500 - val_loss: 0.3465\n",
            "Epoch 31/100\n",
            "\u001b[1m3/3\u001b[0m \u001b[32m━━━━━━━━━━━━━━━━━━━━\u001b[0m\u001b[37m\u001b[0m \u001b[1m0s\u001b[0m 16ms/step - accuracy: 0.8537 - loss: 0.3771 - val_accuracy: 0.9500 - val_loss: 0.3425\n",
            "Epoch 32/100\n",
            "\u001b[1m3/3\u001b[0m \u001b[32m━━━━━━━━━━━━━━━━━━━━\u001b[0m\u001b[37m\u001b[0m \u001b[1m0s\u001b[0m 16ms/step - accuracy: 0.8576 - loss: 0.3872 - val_accuracy: 0.9500 - val_loss: 0.3407\n",
            "Epoch 33/100\n",
            "\u001b[1m3/3\u001b[0m \u001b[32m━━━━━━━━━━━━━━━━━━━━\u001b[0m\u001b[37m\u001b[0m \u001b[1m0s\u001b[0m 15ms/step - accuracy: 0.8342 - loss: 0.4005 - val_accuracy: 0.9500 - val_loss: 0.3377\n",
            "Epoch 34/100\n",
            "\u001b[1m3/3\u001b[0m \u001b[32m━━━━━━━━━━━━━━━━━━━━\u001b[0m\u001b[37m\u001b[0m \u001b[1m0s\u001b[0m 16ms/step - accuracy: 0.8694 - loss: 0.3588 - val_accuracy: 0.9500 - val_loss: 0.3336\n",
            "Epoch 35/100\n",
            "\u001b[1m3/3\u001b[0m \u001b[32m━━━━━━━━━━━━━━━━━━━━\u001b[0m\u001b[37m\u001b[0m \u001b[1m0s\u001b[0m 21ms/step - accuracy: 0.8420 - loss: 0.3801 - val_accuracy: 0.9500 - val_loss: 0.3291\n",
            "Epoch 36/100\n",
            "\u001b[1m3/3\u001b[0m \u001b[32m━━━━━━━━━━━━━━━━━━━━\u001b[0m\u001b[37m\u001b[0m \u001b[1m0s\u001b[0m 15ms/step - accuracy: 0.8576 - loss: 0.3741 - val_accuracy: 0.9500 - val_loss: 0.3253\n",
            "Epoch 37/100\n",
            "\u001b[1m3/3\u001b[0m \u001b[32m━━━━━━━━━━━━━━━━━━━━\u001b[0m\u001b[37m\u001b[0m \u001b[1m0s\u001b[0m 16ms/step - accuracy: 0.8498 - loss: 0.3557 - val_accuracy: 0.9500 - val_loss: 0.3228\n",
            "Epoch 38/100\n",
            "\u001b[1m3/3\u001b[0m \u001b[32m━━━━━━━━━━━━━━━━━━━━\u001b[0m\u001b[37m\u001b[0m \u001b[1m0s\u001b[0m 15ms/step - accuracy: 0.8537 - loss: 0.3791 - val_accuracy: 0.9500 - val_loss: 0.3215\n",
            "Epoch 39/100\n",
            "\u001b[1m3/3\u001b[0m \u001b[32m━━━━━━━━━━━━━━━━━━━━\u001b[0m\u001b[37m\u001b[0m \u001b[1m0s\u001b[0m 16ms/step - accuracy: 0.8420 - loss: 0.3818 - val_accuracy: 0.9500 - val_loss: 0.3206\n",
            "Epoch 40/100\n",
            "\u001b[1m3/3\u001b[0m \u001b[32m━━━━━━━━━━━━━━━━━━━━\u001b[0m\u001b[37m\u001b[0m \u001b[1m0s\u001b[0m 29ms/step - accuracy: 0.8576 - loss: 0.3724 - val_accuracy: 0.9500 - val_loss: 0.3183\n",
            "Epoch 41/100\n",
            "\u001b[1m3/3\u001b[0m \u001b[32m━━━━━━━━━━━━━━━━━━━━\u001b[0m\u001b[37m\u001b[0m \u001b[1m0s\u001b[0m 20ms/step - accuracy: 0.8381 - loss: 0.3774 - val_accuracy: 0.9500 - val_loss: 0.3151\n",
            "Epoch 42/100\n",
            "\u001b[1m3/3\u001b[0m \u001b[32m━━━━━━━━━━━━━━━━━━━━\u001b[0m\u001b[37m\u001b[0m \u001b[1m0s\u001b[0m 15ms/step - accuracy: 0.8498 - loss: 0.3884 - val_accuracy: 0.9500 - val_loss: 0.3115\n",
            "Epoch 43/100\n",
            "\u001b[1m3/3\u001b[0m \u001b[32m━━━━━━━━━━━━━━━━━━━━\u001b[0m\u001b[37m\u001b[0m \u001b[1m0s\u001b[0m 15ms/step - accuracy: 0.8420 - loss: 0.3982 - val_accuracy: 0.9500 - val_loss: 0.3085\n",
            "Epoch 44/100\n",
            "\u001b[1m3/3\u001b[0m \u001b[32m━━━━━━━━━━━━━━━━━━━━\u001b[0m\u001b[37m\u001b[0m \u001b[1m0s\u001b[0m 16ms/step - accuracy: 0.8303 - loss: 0.3959 - val_accuracy: 0.9500 - val_loss: 0.3061\n",
            "Epoch 45/100\n",
            "\u001b[1m3/3\u001b[0m \u001b[32m━━━━━━━━━━━━━━━━━━━━\u001b[0m\u001b[37m\u001b[0m \u001b[1m0s\u001b[0m 15ms/step - accuracy: 0.8576 - loss: 0.3498 - val_accuracy: 0.9500 - val_loss: 0.3050\n",
            "Epoch 46/100\n",
            "\u001b[1m3/3\u001b[0m \u001b[32m━━━━━━━━━━━━━━━━━━━━\u001b[0m\u001b[37m\u001b[0m \u001b[1m0s\u001b[0m 15ms/step - accuracy: 0.8381 - loss: 0.3667 - val_accuracy: 0.9500 - val_loss: 0.3049\n",
            "Epoch 47/100\n",
            "\u001b[1m3/3\u001b[0m \u001b[32m━━━━━━━━━━━━━━━━━━━━\u001b[0m\u001b[37m\u001b[0m \u001b[1m0s\u001b[0m 16ms/step - accuracy: 0.8498 - loss: 0.3702 - val_accuracy: 0.9000 - val_loss: 0.3052\n",
            "Epoch 48/100\n",
            "\u001b[1m3/3\u001b[0m \u001b[32m━━━━━━━━━━━━━━━━━━━━\u001b[0m\u001b[37m\u001b[0m \u001b[1m0s\u001b[0m 16ms/step - accuracy: 0.8498 - loss: 0.3620 - val_accuracy: 0.9000 - val_loss: 0.3029\n",
            "Epoch 49/100\n",
            "\u001b[1m3/3\u001b[0m \u001b[32m━━━━━━━━━━━━━━━━━━━━\u001b[0m\u001b[37m\u001b[0m \u001b[1m0s\u001b[0m 17ms/step - accuracy: 0.8537 - loss: 0.3623 - val_accuracy: 0.9000 - val_loss: 0.2988\n",
            "Epoch 50/100\n",
            "\u001b[1m3/3\u001b[0m \u001b[32m━━━━━━━━━━━━━━━━━━━━\u001b[0m\u001b[37m\u001b[0m \u001b[1m0s\u001b[0m 16ms/step - accuracy: 0.8342 - loss: 0.3847 - val_accuracy: 0.9000 - val_loss: 0.2963\n",
            "Epoch 51/100\n",
            "\u001b[1m3/3\u001b[0m \u001b[32m━━━━━━━━━━━━━━━━━━━━\u001b[0m\u001b[37m\u001b[0m \u001b[1m0s\u001b[0m 18ms/step - accuracy: 0.8303 - loss: 0.3858 - val_accuracy: 0.9500 - val_loss: 0.2923\n",
            "Epoch 52/100\n",
            "\u001b[1m3/3\u001b[0m \u001b[32m━━━━━━━━━━━━━━━━━━━━\u001b[0m\u001b[37m\u001b[0m \u001b[1m0s\u001b[0m 16ms/step - accuracy: 0.8498 - loss: 0.3665 - val_accuracy: 0.9500 - val_loss: 0.2888\n",
            "Epoch 53/100\n",
            "\u001b[1m3/3\u001b[0m \u001b[32m━━━━━━━━━━━━━━━━━━━━\u001b[0m\u001b[37m\u001b[0m \u001b[1m0s\u001b[0m 16ms/step - accuracy: 0.8498 - loss: 0.3419 - val_accuracy: 0.9500 - val_loss: 0.2872\n",
            "Epoch 54/100\n",
            "\u001b[1m3/3\u001b[0m \u001b[32m━━━━━━━━━━━━━━━━━━━━\u001b[0m\u001b[37m\u001b[0m \u001b[1m0s\u001b[0m 19ms/step - accuracy: 0.8616 - loss: 0.3597 - val_accuracy: 0.9000 - val_loss: 0.2889\n",
            "Epoch 55/100\n",
            "\u001b[1m3/3\u001b[0m \u001b[32m━━━━━━━━━━━━━━━━━━━━\u001b[0m\u001b[37m\u001b[0m \u001b[1m0s\u001b[0m 20ms/step - accuracy: 0.8459 - loss: 0.3588 - val_accuracy: 0.9000 - val_loss: 0.2906\n",
            "Epoch 56/100\n",
            "\u001b[1m3/3\u001b[0m \u001b[32m━━━━━━━━━━━━━━━━━━━━\u001b[0m\u001b[37m\u001b[0m \u001b[1m0s\u001b[0m 20ms/step - accuracy: 0.8576 - loss: 0.3461 - val_accuracy: 0.9000 - val_loss: 0.2885\n",
            "Epoch 57/100\n",
            "\u001b[1m3/3\u001b[0m \u001b[32m━━━━━━━━━━━━━━━━━━━━\u001b[0m\u001b[37m\u001b[0m \u001b[1m0s\u001b[0m 17ms/step - accuracy: 0.8576 - loss: 0.3417 - val_accuracy: 0.9000 - val_loss: 0.2858\n",
            "Epoch 58/100\n",
            "\u001b[1m3/3\u001b[0m \u001b[32m━━━━━━━━━━━━━━━━━━━━\u001b[0m\u001b[37m\u001b[0m \u001b[1m0s\u001b[0m 16ms/step - accuracy: 0.8537 - loss: 0.3401 - val_accuracy: 0.9000 - val_loss: 0.2848\n",
            "Epoch 59/100\n",
            "\u001b[1m3/3\u001b[0m \u001b[32m━━━━━━━━━━━━━━━━━━━━\u001b[0m\u001b[37m\u001b[0m \u001b[1m0s\u001b[0m 15ms/step - accuracy: 0.8498 - loss: 0.3324 - val_accuracy: 0.9000 - val_loss: 0.2840\n",
            "Epoch 60/100\n",
            "\u001b[1m3/3\u001b[0m \u001b[32m━━━━━━━━━━━━━━━━━━━━\u001b[0m\u001b[37m\u001b[0m \u001b[1m0s\u001b[0m 17ms/step - accuracy: 0.8655 - loss: 0.3211 - val_accuracy: 0.9000 - val_loss: 0.2828\n",
            "Epoch 61/100\n",
            "\u001b[1m3/3\u001b[0m \u001b[32m━━━━━━━━━━━━━━━━━━━━\u001b[0m\u001b[37m\u001b[0m \u001b[1m0s\u001b[0m 15ms/step - accuracy: 0.8342 - loss: 0.3663 - val_accuracy: 0.9000 - val_loss: 0.2831\n",
            "Epoch 62/100\n",
            "\u001b[1m3/3\u001b[0m \u001b[32m━━━━━━━━━━━━━━━━━━━━\u001b[0m\u001b[37m\u001b[0m \u001b[1m0s\u001b[0m 16ms/step - accuracy: 0.8498 - loss: 0.3316 - val_accuracy: 0.9000 - val_loss: 0.2838\n",
            "Epoch 63/100\n",
            "\u001b[1m3/3\u001b[0m \u001b[32m━━━━━━━━━━━━━━━━━━━━\u001b[0m\u001b[37m\u001b[0m \u001b[1m0s\u001b[0m 18ms/step - accuracy: 0.8420 - loss: 0.3442 - val_accuracy: 0.9000 - val_loss: 0.2848\n",
            "Epoch 64/100\n",
            "\u001b[1m3/3\u001b[0m \u001b[32m━━━━━━━━━━━━━━━━━━━━\u001b[0m\u001b[37m\u001b[0m \u001b[1m0s\u001b[0m 17ms/step - accuracy: 0.8537 - loss: 0.3500 - val_accuracy: 0.9000 - val_loss: 0.2827\n",
            "Epoch 65/100\n",
            "\u001b[1m3/3\u001b[0m \u001b[32m━━━━━━━━━━━━━━━━━━━━\u001b[0m\u001b[37m\u001b[0m \u001b[1m0s\u001b[0m 17ms/step - accuracy: 0.8459 - loss: 0.3483 - val_accuracy: 0.9000 - val_loss: 0.2790\n",
            "Epoch 66/100\n",
            "\u001b[1m3/3\u001b[0m \u001b[32m━━━━━━━━━━━━━━━━━━━━\u001b[0m\u001b[37m\u001b[0m \u001b[1m0s\u001b[0m 16ms/step - accuracy: 0.8576 - loss: 0.3330 - val_accuracy: 0.9000 - val_loss: 0.2765\n",
            "Epoch 67/100\n",
            "\u001b[1m3/3\u001b[0m \u001b[32m━━━━━━━━━━━━━━━━━━━━\u001b[0m\u001b[37m\u001b[0m \u001b[1m0s\u001b[0m 17ms/step - accuracy: 0.8537 - loss: 0.3309 - val_accuracy: 0.9000 - val_loss: 0.2736\n",
            "Epoch 68/100\n",
            "\u001b[1m3/3\u001b[0m \u001b[32m━━━━━━━━━━━━━━━━━━━━\u001b[0m\u001b[37m\u001b[0m \u001b[1m0s\u001b[0m 16ms/step - accuracy: 0.8420 - loss: 0.3517 - val_accuracy: 0.9000 - val_loss: 0.2706\n",
            "Epoch 69/100\n",
            "\u001b[1m3/3\u001b[0m \u001b[32m━━━━━━━━━━━━━━━━━━━━\u001b[0m\u001b[37m\u001b[0m \u001b[1m0s\u001b[0m 20ms/step - accuracy: 0.8576 - loss: 0.3402 - val_accuracy: 0.9000 - val_loss: 0.2671\n",
            "Epoch 70/100\n",
            "\u001b[1m3/3\u001b[0m \u001b[32m━━━━━━━━━━━━━━━━━━━━\u001b[0m\u001b[37m\u001b[0m \u001b[1m0s\u001b[0m 20ms/step - accuracy: 0.8342 - loss: 0.3582 - val_accuracy: 0.9000 - val_loss: 0.2638\n",
            "Epoch 71/100\n",
            "\u001b[1m3/3\u001b[0m \u001b[32m━━━━━━━━━━━━━━━━━━━━\u001b[0m\u001b[37m\u001b[0m \u001b[1m0s\u001b[0m 22ms/step - accuracy: 0.8264 - loss: 0.3653 - val_accuracy: 0.9000 - val_loss: 0.2616\n",
            "Epoch 72/100\n",
            "\u001b[1m3/3\u001b[0m \u001b[32m━━━━━━━━━━━━━━━━━━━━\u001b[0m\u001b[37m\u001b[0m \u001b[1m0s\u001b[0m 16ms/step - accuracy: 0.8694 - loss: 0.3205 - val_accuracy: 0.9000 - val_loss: 0.2583\n",
            "Epoch 73/100\n",
            "\u001b[1m3/3\u001b[0m \u001b[32m━━━━━━━━━━━━━━━━━━━━\u001b[0m\u001b[37m\u001b[0m \u001b[1m0s\u001b[0m 16ms/step - accuracy: 0.8420 - loss: 0.3469 - val_accuracy: 0.9000 - val_loss: 0.2572\n",
            "Epoch 74/100\n",
            "\u001b[1m3/3\u001b[0m \u001b[32m━━━━━━━━━━━━━━━━━━━━\u001b[0m\u001b[37m\u001b[0m \u001b[1m0s\u001b[0m 17ms/step - accuracy: 0.8303 - loss: 0.3505 - val_accuracy: 0.9000 - val_loss: 0.2558\n",
            "Epoch 75/100\n",
            "\u001b[1m3/3\u001b[0m \u001b[32m━━━━━━━━━━━━━━━━━━━━\u001b[0m\u001b[37m\u001b[0m \u001b[1m0s\u001b[0m 16ms/step - accuracy: 0.8420 - loss: 0.3287 - val_accuracy: 0.9000 - val_loss: 0.2549\n",
            "Epoch 76/100\n",
            "\u001b[1m3/3\u001b[0m \u001b[32m━━━━━━━━━━━━━━━━━━━━\u001b[0m\u001b[37m\u001b[0m \u001b[1m0s\u001b[0m 16ms/step - accuracy: 0.8576 - loss: 0.3159 - val_accuracy: 0.9000 - val_loss: 0.2550\n",
            "Epoch 77/100\n",
            "\u001b[1m3/3\u001b[0m \u001b[32m━━━━━━━━━━━━━━━━━━━━\u001b[0m\u001b[37m\u001b[0m \u001b[1m0s\u001b[0m 16ms/step - accuracy: 0.8537 - loss: 0.3223 - val_accuracy: 0.9000 - val_loss: 0.2557\n",
            "Epoch 78/100\n",
            "\u001b[1m3/3\u001b[0m \u001b[32m━━━━━━━━━━━━━━━━━━━━\u001b[0m\u001b[37m\u001b[0m \u001b[1m0s\u001b[0m 16ms/step - accuracy: 0.8420 - loss: 0.3543 - val_accuracy: 0.9000 - val_loss: 0.2540\n",
            "Epoch 79/100\n",
            "\u001b[1m3/3\u001b[0m \u001b[32m━━━━━━━━━━━━━━━━━━━━\u001b[0m\u001b[37m\u001b[0m \u001b[1m0s\u001b[0m 16ms/step - accuracy: 0.8459 - loss: 0.3313 - val_accuracy: 0.9000 - val_loss: 0.2512\n",
            "Epoch 80/100\n",
            "\u001b[1m3/3\u001b[0m \u001b[32m━━━━━━━━━━━━━━━━━━━━\u001b[0m\u001b[37m\u001b[0m \u001b[1m0s\u001b[0m 15ms/step - accuracy: 0.8655 - loss: 0.2917 - val_accuracy: 0.9000 - val_loss: 0.2479\n",
            "Epoch 81/100\n",
            "\u001b[1m3/3\u001b[0m \u001b[32m━━━━━━━━━━━━━━━━━━━━\u001b[0m\u001b[37m\u001b[0m \u001b[1m0s\u001b[0m 16ms/step - accuracy: 0.8601 - loss: 0.3452 - val_accuracy: 0.9500 - val_loss: 0.2455\n",
            "Epoch 82/100\n",
            "\u001b[1m3/3\u001b[0m \u001b[32m━━━━━━━━━━━━━━━━━━━━\u001b[0m\u001b[37m\u001b[0m \u001b[1m0s\u001b[0m 17ms/step - accuracy: 0.8601 - loss: 0.3336 - val_accuracy: 0.9500 - val_loss: 0.2438\n",
            "Epoch 83/100\n",
            "\u001b[1m3/3\u001b[0m \u001b[32m━━━━━━━━━━━━━━━━━━━━\u001b[0m\u001b[37m\u001b[0m \u001b[1m0s\u001b[0m 20ms/step - accuracy: 0.8444 - loss: 0.3307 - val_accuracy: 0.9500 - val_loss: 0.2416\n",
            "Epoch 84/100\n",
            "\u001b[1m3/3\u001b[0m \u001b[32m━━━━━━━━━━━━━━━━━━━━\u001b[0m\u001b[37m\u001b[0m \u001b[1m0s\u001b[0m 35ms/step - accuracy: 0.8444 - loss: 0.3511 - val_accuracy: 0.9500 - val_loss: 0.2405\n",
            "Epoch 85/100\n",
            "\u001b[1m3/3\u001b[0m \u001b[32m━━━━━━━━━━━━━━━━━━━━\u001b[0m\u001b[37m\u001b[0m \u001b[1m0s\u001b[0m 32ms/step - accuracy: 0.8601 - loss: 0.3302 - val_accuracy: 0.9000 - val_loss: 0.2394\n",
            "Epoch 86/100\n",
            "\u001b[1m3/3\u001b[0m \u001b[32m━━━━━━━━━━━━━━━━━━━━\u001b[0m\u001b[37m\u001b[0m \u001b[1m0s\u001b[0m 23ms/step - accuracy: 0.8796 - loss: 0.3058 - val_accuracy: 0.9000 - val_loss: 0.2394\n",
            "Epoch 87/100\n",
            "\u001b[1m3/3\u001b[0m \u001b[32m━━━━━━━━━━━━━━━━━━━━\u001b[0m\u001b[37m\u001b[0m \u001b[1m0s\u001b[0m 23ms/step - accuracy: 0.8796 - loss: 0.3058 - val_accuracy: 0.9000 - val_loss: 0.2391\n",
            "Epoch 88/100\n",
            "\u001b[1m3/3\u001b[0m \u001b[32m━━━━━━━━━━━━━━━━━━━━\u001b[0m\u001b[37m\u001b[0m \u001b[1m0s\u001b[0m 21ms/step - accuracy: 0.8718 - loss: 0.3081 - val_accuracy: 0.9000 - val_loss: 0.2393\n",
            "Epoch 89/100\n",
            "\u001b[1m3/3\u001b[0m \u001b[32m━━━━━━━━━━━━━━━━━━━━\u001b[0m\u001b[37m\u001b[0m \u001b[1m0s\u001b[0m 21ms/step - accuracy: 0.8796 - loss: 0.2829 - val_accuracy: 0.9000 - val_loss: 0.2389\n",
            "Epoch 90/100\n",
            "\u001b[1m3/3\u001b[0m \u001b[32m━━━━━━━━━━━━━━━━━━━━\u001b[0m\u001b[37m\u001b[0m \u001b[1m0s\u001b[0m 33ms/step - accuracy: 0.8718 - loss: 0.3273 - val_accuracy: 0.9000 - val_loss: 0.2416\n",
            "Epoch 91/100\n",
            "\u001b[1m3/3\u001b[0m \u001b[32m━━━━━━━━━━━━━━━━━━━━\u001b[0m\u001b[37m\u001b[0m \u001b[1m0s\u001b[0m 31ms/step - accuracy: 0.8640 - loss: 0.3018 - val_accuracy: 0.9000 - val_loss: 0.2404\n",
            "Epoch 92/100\n",
            "\u001b[1m3/3\u001b[0m \u001b[32m━━━━━━━━━━━━━━━━━━━━\u001b[0m\u001b[37m\u001b[0m \u001b[1m0s\u001b[0m 22ms/step - accuracy: 0.8796 - loss: 0.3010 - val_accuracy: 0.9000 - val_loss: 0.2367\n",
            "Epoch 93/100\n",
            "\u001b[1m3/3\u001b[0m \u001b[32m━━━━━━━━━━━━━━━━━━━━\u001b[0m\u001b[37m\u001b[0m \u001b[1m0s\u001b[0m 21ms/step - accuracy: 0.8562 - loss: 0.3228 - val_accuracy: 0.9000 - val_loss: 0.2333\n",
            "Epoch 94/100\n",
            "\u001b[1m3/3\u001b[0m \u001b[32m━━━━━━━━━━━━━━━━━━━━\u001b[0m\u001b[37m\u001b[0m \u001b[1m0s\u001b[0m 21ms/step - accuracy: 0.8640 - loss: 0.2970 - val_accuracy: 0.9000 - val_loss: 0.2312\n",
            "Epoch 95/100\n",
            "\u001b[1m3/3\u001b[0m \u001b[32m━━━━━━━━━━━━━━━━━━━━\u001b[0m\u001b[37m\u001b[0m \u001b[1m0s\u001b[0m 26ms/step - accuracy: 0.8288 - loss: 0.3413 - val_accuracy: 0.9000 - val_loss: 0.2312\n",
            "Epoch 96/100\n",
            "\u001b[1m3/3\u001b[0m \u001b[32m━━━━━━━━━━━━━━━━━━━━\u001b[0m\u001b[37m\u001b[0m \u001b[1m0s\u001b[0m 25ms/step - accuracy: 0.8796 - loss: 0.2756 - val_accuracy: 0.9000 - val_loss: 0.2337\n",
            "Epoch 97/100\n",
            "\u001b[1m3/3\u001b[0m \u001b[32m━━━━━━━━━━━━━━━━━━━━\u001b[0m\u001b[37m\u001b[0m \u001b[1m0s\u001b[0m 25ms/step - accuracy: 0.8366 - loss: 0.3366 - val_accuracy: 0.9000 - val_loss: 0.2351\n",
            "Epoch 98/100\n",
            "\u001b[1m3/3\u001b[0m \u001b[32m━━━━━━━━━━━━━━━━━━━━\u001b[0m\u001b[37m\u001b[0m \u001b[1m0s\u001b[0m 26ms/step - accuracy: 0.8679 - loss: 0.3119 - val_accuracy: 0.9000 - val_loss: 0.2341\n",
            "Epoch 99/100\n",
            "\u001b[1m3/3\u001b[0m \u001b[32m━━━━━━━━━━━━━━━━━━━━\u001b[0m\u001b[37m\u001b[0m \u001b[1m0s\u001b[0m 33ms/step - accuracy: 0.8562 - loss: 0.3269 - val_accuracy: 0.9000 - val_loss: 0.2320\n",
            "Epoch 100/100\n",
            "\u001b[1m3/3\u001b[0m \u001b[32m━━━━━━━━━━━━━━━━━━━━\u001b[0m\u001b[37m\u001b[0m \u001b[1m0s\u001b[0m 34ms/step - accuracy: 0.8366 - loss: 0.3447 - val_accuracy: 0.9000 - val_loss: 0.2275\n"
          ]
        }
      ]
    },
    {
      "cell_type": "code",
      "source": [
        "model.get_weights()"
      ],
      "metadata": {
        "colab": {
          "base_uri": "https://localhost:8080/"
        },
        "id": "8K2E1Z5Oupj_",
        "outputId": "062e2235-1e19-4905-9e45-974b03af27f3"
      },
      "execution_count": 134,
      "outputs": [
        {
          "output_type": "execute_result",
          "data": {
            "text/plain": [
              "[array([[ 0.37604192,  1.8630096 ,  0.42622688,  0.81276584,  0.04831001,\n",
              "          0.84864765,  2.1154137 , -1.7505479 , -0.11552007,  0.36771977],\n",
              "        [-0.08485331,  0.20269884,  1.838337  , -0.31494516, -1.6516421 ,\n",
              "         -1.1444246 ,  0.40935624,  0.6073752 , -0.4411671 ,  0.3001965 ]],\n",
              "       dtype=float32),\n",
              " array([-0.02828874, -0.0734148 ,  0.09192669, -0.05101977,  0.00921455,\n",
              "        -0.07905405,  0.04541165, -0.07722682,  0.15729086,  0.09636159],\n",
              "       dtype=float32),\n",
              " array([[-0.394892  , -0.46841684, -0.3272797 ,  0.459361  ,  0.17222627,\n",
              "          0.26862627, -0.21638933,  0.08694728, -0.1103598 , -0.7388479 ],\n",
              "        [ 0.5983174 , -0.11056523,  0.5218853 , -0.0066322 , -0.23107788,\n",
              "          0.00557211, -0.42156795,  0.52457595,  0.31203377,  0.23816413],\n",
              "        [ 0.04158367,  0.1280419 , -0.01082816, -0.4139966 , -0.24183042,\n",
              "          0.6049816 ,  0.83661044,  0.9993485 , -0.37561882, -0.10096218],\n",
              "        [-0.3085151 ,  0.90318114,  0.4085271 , -0.07625506,  0.03959192,\n",
              "         -0.64994234,  0.45340842, -0.51483196,  0.1852448 ,  0.60435   ],\n",
              "        [-0.13182035,  0.19185083, -0.4934711 ,  0.583541  , -0.16412926,\n",
              "         -0.40038526,  0.3778473 ,  0.16501237, -0.07529013,  0.32287666],\n",
              "        [-0.1478282 , -0.72165585,  0.3332649 , -0.15462853,  0.82188946,\n",
              "          0.6633021 ,  0.34018645,  0.10884754,  0.6925772 , -0.3538432 ],\n",
              "        [ 0.47065738,  0.23174323,  0.08221507,  0.63917476,  0.61583865,\n",
              "         -0.09094437, -0.07448328, -0.68139297,  0.2881305 , -0.43471912],\n",
              "        [-0.18480667, -0.20819454, -0.27615   , -0.390719  ,  0.11447877,\n",
              "          0.3341236 , -0.5029649 ,  0.38428727, -0.04282066, -0.27197993],\n",
              "        [-0.04093107, -0.9809679 ,  0.7936358 , -0.12665626, -0.503946  ,\n",
              "         -0.19126725, -0.40819708, -0.26692966,  0.32052657, -0.23758715],\n",
              "        [-0.42113817,  0.31521362, -0.38372925, -0.56553113, -0.77401423,\n",
              "          0.5927729 ,  0.35299125, -0.45919752,  0.4694689 , -0.11182963]],\n",
              "       dtype=float32),\n",
              " array([-0.01271213,  0.14024329, -0.03893599,  0.05015365, -0.10544986,\n",
              "         0.04531482,  0.08967114,  0.02716442, -0.03739646, -0.07800375],\n",
              "       dtype=float32),\n",
              " array([[-0.17710984, -0.14431687, -0.13024782,  0.02124515, -0.1704523 ,\n",
              "          1.0282589 ,  0.4330588 ,  0.24733876,  0.08833779,  0.5556829 ],\n",
              "        [-0.67818475, -0.1220938 , -0.74158394, -0.4621164 ,  0.7534917 ,\n",
              "          0.5904746 ,  0.5355303 , -0.33408344, -0.9399141 , -0.27605706],\n",
              "        [ 0.9206481 , -0.08607342, -0.23765168,  0.03478469, -0.40373692,\n",
              "         -0.9328485 ,  0.44451842, -0.06570482,  0.34533006,  0.03995699],\n",
              "        [ 0.74064106, -0.78377604, -0.644351  ,  0.24524078, -0.37159577,\n",
              "          0.9380205 ,  0.22117577,  0.01706224, -0.4549053 ,  0.12628408],\n",
              "        [-0.45373467, -0.23269147,  0.57543117,  0.34321958, -0.04405692,\n",
              "         -0.7384032 ,  0.56375915,  0.40638536,  0.03305741, -0.7942735 ],\n",
              "        [-0.8939091 , -0.4066162 , -0.7950781 , -0.66371286, -0.25028872,\n",
              "         -0.34493747, -0.26157564,  0.31642348,  0.4125179 ,  0.06379604],\n",
              "        [ 0.18617803, -0.21920043, -0.02593789,  0.63374263,  0.47221047,\n",
              "         -0.5831278 ,  0.34988272, -0.16593575, -0.1830602 ,  0.40391418],\n",
              "        [-0.8071267 , -0.22351243, -0.7081315 , -0.41186884,  0.19229099,\n",
              "          0.69813913, -0.560087  ,  0.63922   , -0.04948482,  0.51858866],\n",
              "        [ 0.8204458 , -0.12028184, -0.46249986,  0.00677567,  0.47477466,\n",
              "          0.36045027,  0.8150824 , -0.6171892 , -0.5782034 , -0.27938092],\n",
              "        [-0.15076628,  0.48969543,  0.04842776,  0.21849953,  0.07472183,\n",
              "          0.2813971 , -0.2805559 ,  0.27419677,  0.05096478,  0.49146423]],\n",
              "       dtype=float32),\n",
              " array([ 0.01646347,  0.        ,  0.        ,  0.14917962,  0.0344042 ,\n",
              "        -0.01938401,  0.01700353, -0.05089946,  0.0582833 ,  0.0341831 ],\n",
              "       dtype=float32),\n",
              " array([[-1.0995728 , -0.5594612 , -0.03301115,  0.34426126, -0.23926659,\n",
              "         -0.46626806,  0.15540063,  0.5884777 , -0.23459962, -0.8417409 ],\n",
              "        [ 0.2951489 ,  0.07430228,  0.09188253, -0.2832952 , -0.13255306,\n",
              "         -0.59214437, -0.06790773, -0.45380327,  0.31713155,  0.00784193],\n",
              "        [ 0.83056015, -0.04148803,  0.6019397 ,  0.93091685,  0.46638292,\n",
              "         -0.33040032, -0.17384182, -0.0315825 ,  0.06349502, -0.4383199 ],\n",
              "        [ 0.42606893, -0.18598904, -0.25137967,  0.20938951,  0.36295322,\n",
              "         -0.32789096,  0.5713148 , -0.30118868,  0.08827491, -0.21135093],\n",
              "        [-0.20448548, -0.48471358,  0.3958634 , -0.5369643 , -0.5127051 ,\n",
              "          0.24465111, -0.26976034, -0.59703887, -0.26376367, -0.6569775 ],\n",
              "        [ 0.4547341 , -0.5395812 , -0.43089607,  0.55942893,  0.5064891 ,\n",
              "          0.2557389 ,  0.15573634, -0.7220336 ,  0.09299923,  0.4218841 ],\n",
              "        [ 0.3176336 ,  0.1737193 ,  0.0748389 ,  0.0365484 , -0.62998486,\n",
              "         -0.7330513 ,  0.6089951 ,  0.51192456,  0.2108747 ,  0.7978031 ],\n",
              "        [-0.17580068, -0.52357155, -0.5546905 , -0.45101422,  0.6017717 ,\n",
              "          0.9068527 ,  0.573246  ,  0.31147116, -0.3171174 ,  0.29813328],\n",
              "        [ 0.2507023 , -0.38198268,  0.30104277, -0.37505913, -0.6482207 ,\n",
              "         -0.42829424, -0.46158493, -0.31208363, -0.10898004,  0.4202277 ],\n",
              "        [ 0.33963788, -0.43527812, -0.15466413, -0.06693263, -0.7990162 ,\n",
              "          0.538601  , -0.69996977, -0.71127146,  0.4660825 ,  0.94811183]],\n",
              "       dtype=float32),\n",
              " array([-0.03024742,  0.        , -0.00890983,  0.05678771, -0.05579675,\n",
              "         0.00196629, -0.02888963,  0.06846552, -0.05386512,  0.01599248],\n",
              "       dtype=float32),\n",
              " array([[-0.5951347 ],\n",
              "        [-0.48267558],\n",
              "        [ 0.10276855],\n",
              "        [ 0.39437503],\n",
              "        [ 0.6711693 ],\n",
              "        [-0.3347526 ],\n",
              "        [ 0.6914609 ],\n",
              "        [ 0.14401028],\n",
              "        [-0.7600078 ],\n",
              "        [-0.71636266]], dtype=float32),\n",
              " array([0.01844929], dtype=float32)]"
            ]
          },
          "metadata": {},
          "execution_count": 134
        }
      ]
    },
    {
      "cell_type": "code",
      "source": [
        "from mlxtend.plotting import plot_decision_regions\n",
        "plot_decision_regions(X,y.astype('int'), clf=model, legend=2)"
      ],
      "metadata": {
        "colab": {
          "base_uri": "https://localhost:8080/",
          "height": 465
        },
        "id": "h2jKnSGeuuLY",
        "outputId": "80e832ca-ac40-4d37-9573-3ad8981b9414"
      },
      "execution_count": 135,
      "outputs": [
        {
          "output_type": "stream",
          "name": "stdout",
          "text": [
            "\u001b[1m9600/9600\u001b[0m \u001b[32m━━━━━━━━━━━━━━━━━━━━\u001b[0m\u001b[37m\u001b[0m \u001b[1m14s\u001b[0m 1ms/step\n"
          ]
        },
        {
          "output_type": "execute_result",
          "data": {
            "text/plain": [
              "<Axes: >"
            ]
          },
          "metadata": {},
          "execution_count": 135
        },
        {
          "output_type": "display_data",
          "data": {
            "text/plain": [
              "<Figure size 640x480 with 1 Axes>"
            ],
            "image/png": "[encoded data removed]"
          },
          "metadata": {}
        }
      ]
    },
    {
      "cell_type": "code",
      "source": [
        "(np.random.randn(10,10)*0.01).min()"
      ],
      "metadata": {
        "colab": {
          "base_uri": "https://localhost:8080/"
        },
        "id": "6cQtO9mpuxLI",
        "outputId": "335df7d9-0764-4b26-c132-17af5b8be515"
      },
      "execution_count": 136,
      "outputs": [
        {
          "output_type": "execute_result",
          "data": {
            "text/plain": [
              "-0.021354972579679724"
            ]
          },
          "metadata": {},
          "execution_count": 136
        }
      ]
    },
    {
      "cell_type": "code",
      "source": [
        "(np.random.randn(10,10)*0.01).max()"
      ],
      "metadata": {
        "colab": {
          "base_uri": "https://localhost:8080/"
        },
        "id": "diiaUiL92T7H",
        "outputId": "898ded8a-4ad2-417b-d39e-6fdf3b0e8996"
      },
      "execution_count": 137,
      "outputs": [
        {
          "output_type": "execute_result",
          "data": {
            "text/plain": [
              "0.02818810127345469"
            ]
          },
          "metadata": {},
          "execution_count": 137
        }
      ]
    },
    {
      "cell_type": "code",
      "source": [],
      "metadata": {
        "id": "b2DJRNfI3BOE"
      },
      "execution_count": 137,
      "outputs": []
    }
  ]
}