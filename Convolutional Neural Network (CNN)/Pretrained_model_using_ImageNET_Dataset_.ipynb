{
  "nbformat": 4,
  "nbformat_minor": 0,
  "metadata": {
    "colab": {
      "provenance": []
    },
    "kernelspec": {
      "name": "python3",
      "display_name": "Python 3"
    },
    "language_info": {
      "name": "python"
    }
  },
  "cells": [
    {
      "cell_type": "code",
      "execution_count": 13,
      "metadata": {
        "id": "7XX7qe9Vw9tg"
      },
      "outputs": [],
      "source": [
        "from keras.applications.resnet50 import ResNet50\n",
        "from keras.preprocessing import image\n",
        "from keras.applications.resnet50 import preprocess_input, decode_predictions\n",
        "import numpy as np\n",
        "\n"
      ]
    },
    {
      "cell_type": "code",
      "source": [
        "model = ResNet50(weights='imagenet')"
      ],
      "metadata": {
        "id": "TCL-dc2vxiox"
      },
      "execution_count": 14,
      "outputs": []
    },
    {
      "cell_type": "code",
      "source": [
        "import tensorflow as tf\n",
        "\n",
        "image_url = \"https://upload.wikimedia.org/wikipedia/commons/4/47/PNG_transparency_demonstration_1.png\"\n",
        "image_path = tf.keras.utils.get_file('sample_image.png', image_url)\n",
        "\n",
        "img = image.load_img(image_path, target_size=(224, 224))\n",
        "\n",
        "x = image.img_to_array(img)\n",
        "\n",
        "x = np.expand_dims(x, axis=0)\n",
        "\n",
        "x = preprocess_input(x)\n",
        "\n",
        "\n"
      ],
      "metadata": {
        "colab": {
          "base_uri": "https://localhost:8080/"
        },
        "id": "modzxGfDxlLU",
        "outputId": "072ea066-394c-4407-975d-2d91d768f836"
      },
      "execution_count": 17,
      "outputs": [
        {
          "output_type": "stream",
          "name": "stdout",
          "text": [
            "Downloading data from https://upload.wikimedia.org/wikipedia/commons/4/47/PNG_transparency_demonstration_1.png\n",
            "\u001b[1m224566/224566\u001b[0m \u001b[32m━━━━━━━━━━━━━━━━━━━━\u001b[0m\u001b[37m\u001b[0m \u001b[1m0s\u001b[0m 1us/step\n"
          ]
        }
      ]
    },
    {
      "cell_type": "code",
      "source": [
        "\n",
        "image_path = ('/content/Dog.jpg')\n",
        "\n",
        "# Load the image with the target size that ResNet50 expects\n",
        "img = image.load_img(image_path, target_size=(224, 224))\n",
        "\n",
        "# Convert the image to an array\n",
        "x = image.img_to_array(img)\n",
        "\n",
        "# Expand dimensions to match the expected input shape (1, 224, 224, 3)\n",
        "x = np.expand_dims(x, axis=0)\n",
        "\n",
        "# Preprocess the image for the model\n",
        "x = preprocess_input(x)\n",
        "\n",
        "\n"
      ],
      "metadata": {
        "id": "dsTKtkcW06eu"
      },
      "execution_count": 20,
      "outputs": []
    },
    {
      "cell_type": "code",
      "source": [
        "pred = model.predict(x)\n",
        "print(\"Predicted\", decode_predictions(pred, top=5)[0])"
      ],
      "metadata": {
        "colab": {
          "base_uri": "https://localhost:8080/"
        },
        "id": "bS69moB7x_Ll",
        "outputId": "8fd3f51d-92d3-48b3-ff3e-47c1cb5b7c71"
      },
      "execution_count": 21,
      "outputs": [
        {
          "output_type": "stream",
          "name": "stdout",
          "text": [
            "\u001b[1m1/1\u001b[0m \u001b[32m━━━━━━━━━━━━━━━━━━━━\u001b[0m\u001b[37m\u001b[0m \u001b[1m0s\u001b[0m 225ms/step\n",
            "Predicted [('n02094433', 'Yorkshire_terrier', 0.40457228), ('n02113624', 'toy_poodle', 0.2722342), ('n02093754', 'Border_terrier', 0.10157476), ('n02113712', 'miniature_poodle', 0.0931699), ('n02096177', 'cairn', 0.031287543)]\n"
          ]
        }
      ]
    },
    {
      "cell_type": "code",
      "source": [],
      "metadata": {
        "id": "t5ai_Kmx0Adt"
      },
      "execution_count": null,
      "outputs": []
    }
  ]
}